{
 "cells": [
  {
   "cell_type": "markdown",
   "metadata": {},
   "source": [
    "\n",
    "<html>\n",
    "  <body>\n",
    "    <h1>Python Programming</h1>\n",
    "  </body>\n",
    "</html>\n"
   ]
  },
  {
   "cell_type": "markdown",
   "metadata": {},
   "source": [
    "<html>\n",
    "  <body>\n",
    "    <h3>Welcome to Python!</h3>\n",
    "    <p>Python is a high-level, interpreted programming language that's easy to learn and fun to use.</p>\n",
    "  </body>\n",
    "</html>\n",
    "\n"
   ]
  },
  {
   "cell_type": "markdown",
   "metadata": {},
   "source": [
    "<html>\n",
    "  <body>\n",
    "    <h3>Basic Syntax</h3>\n",
    "  </body>\n",
    "</html>\n",
    "\n"
   ]
  },
  {
   "cell_type": "code",
   "execution_count": 1,
   "metadata": {},
   "outputs": [
    {
     "name": "stdout",
     "output_type": "stream",
     "text": [
      "24\n"
     ]
    }
   ],
   "source": [
    "print(24)"
   ]
  },
  {
   "cell_type": "markdown",
   "metadata": {},
   "source": [
    "\n",
    "<html>\n",
    "  <body>\n",
    "    <h2>Python Variables</h2>\n",
    "    <p>X = 5</p>\n",
    "    <p>Y = \"Hello World\"</p>\n",
    "    <p>In Python, variables are created when you assign a value to it.</p>\n",
    "  </body>\n",
    "</html>\n"
   ]
  },
  {
   "cell_type": "code",
   "execution_count": 2,
   "metadata": {},
   "outputs": [],
   "source": [
    "x = 5\n",
    "y = \"hello\""
   ]
  },
  {
   "cell_type": "code",
   "execution_count": 3,
   "metadata": {},
   "outputs": [
    {
     "name": "stdout",
     "output_type": "stream",
     "text": [
      "hello\n"
     ]
    }
   ],
   "source": [
    "print(y)"
   ]
  },
  {
   "cell_type": "markdown",
   "metadata": {},
   "source": [
    "<html>\n",
    "<body>\n",
    "<h2>Python Keywords</h2>\n",
    "<h5>Keywords are the reserve words in python<h5>\n",
    "<p>if , else, elif, return ,False , True and etc.</p>\n",
    "</body>\n",
    "</html>\n"
   ]
  },
  {
   "cell_type": "code",
   "execution_count": 17,
   "metadata": {},
   "outputs": [
    {
     "name": "stdout",
     "output_type": "stream",
     "text": [
      "hans\n"
     ]
    }
   ],
   "source": [
    "hans_singh = \"hans\"\n",
    "print(hans_singh)"
   ]
  },
  {
   "cell_type": "markdown",
   "metadata": {},
   "source": [
    "\n",
    "<html>\n",
    "  <body>\n",
    "    <h1>Python Comments</h1>\n",
    "    <p>In Python, comments start with a # symbol.</p>\n",
    "    <pre>\n",
    "      <code># This is a comment\n",
    "      print(\"Hello, World!\")  # This is also a comment\n",
    "      </code>\n",
    "    </pre>\n",
    "    <p>Python will ignore any text following the # symbol on the same line.</p>\n",
    "  </body>\n",
    "</html>\n"
   ]
  },
  {
   "cell_type": "code",
   "execution_count": 19,
   "metadata": {},
   "outputs": [
    {
     "name": "stdout",
     "output_type": "stream",
     "text": [
      "hello\n"
     ]
    }
   ],
   "source": [
    "'''this is \n",
    "comment'''\n",
    "\n",
    "print(\"hello\")"
   ]
  },
  {
   "cell_type": "markdown",
   "metadata": {},
   "source": [
    "<html>\n",
    "<body>\n",
    "<h1>Input and Output in Python</h1>\n",
    "<h2>Input</h2>\n",
    "<p>In Python, you can get user input using the <code>input()</code> function.</p>\n",
    "<p>The <code>input()</code> function pauses the program and waits for the user to enter some text.</p>\n",
    "<p>The text entered by the user is returned as a string.</p>\n",
    "</body>\n",
    "</html>\n",
    "\n"
   ]
  },
  {
   "cell_type": "code",
   "execution_count": 21,
   "metadata": {},
   "outputs": [
    {
     "name": "stdout",
     "output_type": "stream",
     "text": [
      "My age is 24\n"
     ]
    }
   ],
   "source": [
    "x = int(input(\"Enter you age:\"))\n",
    "print(\"My age is\",x)"
   ]
  },
  {
   "cell_type": "markdown",
   "metadata": {},
   "source": [
    "<h2>Output</h2>\n",
    "<p>In Python, you can display output to the screen using the <code>print()</code> function.</p>\n",
    "<p>The <code>print()</code> function takes one or more arguments and displays them on the screen.</p>\n",
    "<p>You can use the <code>print()</code> function to display text, numbers, and other data types.</p>"
   ]
  },
  {
   "cell_type": "code",
   "execution_count": null,
   "metadata": {},
   "outputs": [],
   "source": []
  },
  {
   "cell_type": "markdown",
   "metadata": {},
   "source": [
    "\n",
    "\n",
    "<html>\n",
    "  <body>\n",
    "    <h1>Python Data Types</h1>\n",
    "    <p>Python has the following built-in data types:</p>\n",
    "    <ul>\n",
    "      <li>\n",
    "        <b>Integers</b> (int): whole numbers, e.g., 1, 2, 3, etc.\n",
    "      </li>\n",
    "      <li>\n",
    "        <b>Floats</b> (float): decimal numbers, e.g., 3.14, -0.5, etc.\n",
    "      </li>\n",
    "      <li>\n",
    "        <b>Strings</b> (str): sequences of characters, e.g., \"hello\", 'hello', etc.\n",
    "        <ul>\n",
    "          <li>Single quotes: 'hello'</li>\n",
    "          <li>Double quotes: \"hello\"</li>\n",
    "          <li>Triple quotes: '''hello''' or \"\"\"hello\"\"\"</li>\n",
    "        </ul>\n",
    "      </li>\n",
    "      <li>\n",
    "        <b>Boolean</b> (bool): true or false values\n",
    "      </li>\n",
    "      <li>\n",
    "        <b>List</b> (list): ordered collections of items, e.g., [1, 2, 3], [\"a\", \"b\", \"c\"], etc.\n",
    "      </li>\n",
    "      <li>\n",
    "        <b>Tuple</b> (tuple): ordered, immutable collections of items, e.g., (1, 2, 3), (\"a\", \"b\", \"c\"), etc.\n",
    "      </li>\n",
    "      <li>\n",
    "        <b>Dictionary</b> (dict): unordered collections of key-value pairs, e.g., {\"name\": \"John\", \"age\": 30}, etc.\n",
    "      </li>\n",
    "      <li>\n",
    "        <b>Set</b> (set): unordered collections of unique items, e.g., {1, 2, 3}, {\"a\", \"b\", \"c\"}, etc.\n",
    "      </li>\n",
    "    </ul>\n",
    "  </body>\n",
    "</html>\n",
    "\n"
   ]
  },
  {
   "cell_type": "code",
   "execution_count": 27,
   "metadata": {},
   "outputs": [],
   "source": [
    "x = [1,2,3,4]"
   ]
  },
  {
   "cell_type": "code",
   "execution_count": 28,
   "metadata": {},
   "outputs": [
    {
     "name": "stdout",
     "output_type": "stream",
     "text": [
      "<class 'list'>\n"
     ]
    }
   ],
   "source": [
    "print(type(x))"
   ]
  },
  {
   "cell_type": "markdown",
   "metadata": {},
   "source": [
    "<html>\n",
    "<body>\n",
    "<h3>Types of Operators in Python</h3>\n",
    "<h4>Arithmetic Operators</h4>\n",
    "<p>+ , - , * , / , % , **</p>\n",
    "<h4>Comparison Operators</h4>\n",
    "<p>== , != , > , < , >= , <=</p>\n",
    "<h4>Assignment Operators</h4>\n",
    "<p>= , += , -= , *= , /= , %= , **=</p>\n",
    "<h4>Logical Operators</h4>\n",
    "<p>not , and , or</p>\n",
    "</body>\n",
    "</html>"
   ]
  },
  {
   "cell_type": "code",
   "execution_count": 39,
   "metadata": {},
   "outputs": [],
   "source": [
    " x = 5\n",
    " y = 3"
   ]
  },
  {
   "cell_type": "code",
   "execution_count": 42,
   "metadata": {},
   "outputs": [],
   "source": [
    " x /= 5"
   ]
  },
  {
   "cell_type": "code",
   "execution_count": 49,
   "metadata": {},
   "outputs": [
    {
     "name": "stdout",
     "output_type": "stream",
     "text": [
      "5\n"
     ]
    }
   ],
   "source": [
    "x = 5\n",
    "print(x)"
   ]
  },
  {
   "cell_type": "markdown",
   "metadata": {},
   "source": [
    "<html>\n",
    "  <body>\n",
    "    <h1>If, Else, and Elif Statements in Python</h1>\n",
    "  </body>\n",
    "</html>\n",
    "\n"
   ]
  },
  {
   "cell_type": "markdown",
   "metadata": {},
   "source": [
    " <p>The if statement is used to execute a block of code if a certain condition is true.</p>\n",
    "   "
   ]
  },
  {
   "cell_type": "code",
   "execution_count": 51,
   "metadata": {},
   "outputs": [],
   "source": [
    "x = 11\n",
    "if x < 10:\n",
    "    print(\"x is greater then 10\")"
   ]
  },
  {
   "cell_type": "code",
   "execution_count": null,
   "metadata": {},
   "outputs": [],
   "source": []
  },
  {
   "cell_type": "markdown",
   "metadata": {},
   "source": [
    " <p>The else statement is used to execute a block of code if the if condition is false.</p>"
   ]
  },
  {
   "cell_type": "code",
   "execution_count": 52,
   "metadata": {},
   "outputs": [
    {
     "name": "stdout",
     "output_type": "stream",
     "text": [
      "x is lower then 10\n"
     ]
    }
   ],
   "source": [
    "x = 11 \n",
    "if x < 10 :\n",
    "    print(\"x is greater then 10\")\n",
    "else:\n",
    "    print(\"x is lower then 10\")"
   ]
  },
  {
   "cell_type": "markdown",
   "metadata": {},
   "source": [
    "\n",
    "<p>The elif statement is used to check another condition if the initial if condition is false.</p>"
   ]
  },
  {
   "cell_type": "code",
   "execution_count": 54,
   "metadata": {},
   "outputs": [
    {
     "name": "stdout",
     "output_type": "stream",
     "text": [
      " x is equal to 10\n"
     ]
    }
   ],
   "source": [
    "x = 10\n",
    "if x > 10:\n",
    "    print(\"x is greater then 10\")\n",
    "elif x == 10:\n",
    "    print(\" x is equal to 10\")\n",
    "else:\n",
    "    print(\" x is lower then 10\")"
   ]
  },
  {
   "cell_type": "code",
   "execution_count": 58,
   "metadata": {},
   "outputs": [
    {
     "name": "stdout",
     "output_type": "stream",
     "text": [
      "cherry is not there\n"
     ]
    }
   ],
   "source": [
    "fruit = [ \"apple\",\"banana\",\"mango\"]\n",
    "if \"cherry\" in fruit:\n",
    "    print(\"cherry is in the list\")\n",
    "else:\n",
    "    print(\"cherry is not there\")"
   ]
  },
  {
   "cell_type": "markdown",
   "metadata": {},
   "source": [
    "<html>\n",
    "  <body>\n",
    "    <h1>While Loop in Python</h1>\n",
    "    <p>The while loop is used to execute a block of code as long as a certain condition is true.</p>\n",
    "  </body>\n",
    "</html>\n"
   ]
  },
  {
   "cell_type": "code",
   "execution_count": null,
   "metadata": {},
   "outputs": [],
   "source": []
  },
  {
   "cell_type": "markdown",
   "metadata": {},
   "source": [
    "\n",
    "<html>\n",
    "  <body>\n",
    "    <h1>For Loop in Python</h1>\n",
    "    <p>The for loop is used to iterate over a sequence and execute a block of code for each item.</p>\n",
    "  </body>\n",
    "</html>\n"
   ]
  },
  {
   "cell_type": "code",
   "execution_count": null,
   "metadata": {},
   "outputs": [],
   "source": []
  },
  {
   "cell_type": "markdown",
   "metadata": {},
   "source": [
    "<html>\n",
    "  <body>\n",
    "    <h1>Break Statement in Python</h1>\n",
    "    <p>The break statement is used to exit a loop prematurely.</p>\n",
    "  </body>\n",
    "</html>\n"
   ]
  },
  {
   "cell_type": "code",
   "execution_count": null,
   "metadata": {},
   "outputs": [],
   "source": []
  },
  {
   "cell_type": "markdown",
   "metadata": {},
   "source": [
    "<html>\n",
    "  <body>\n",
    "    <h1>Continue Statement in Python</h1>\n",
    "    <p>The continue statement is used to skip the rest of the code inside a loop for the current iteration.</p>\n",
    "  </body>\n",
    "</html>\n"
   ]
  },
  {
   "cell_type": "code",
   "execution_count": null,
   "metadata": {},
   "outputs": [],
   "source": []
  },
  {
   "cell_type": "markdown",
   "metadata": {},
   "source": [
    "<html>\n",
    "  <body>\n",
    "    <h1>Pass Statement in Python</h1>\n",
    "    <p>The pass statement is a null operation that does nothing when executed.</p>\n",
    "  </body>\n",
    "</html>\n"
   ]
  },
  {
   "cell_type": "code",
   "execution_count": 69,
   "metadata": {},
   "outputs": [],
   "source": [
    "for i in range(4):\n",
    "    pass\n",
    "    "
   ]
  },
  {
   "cell_type": "code",
   "execution_count": null,
   "metadata": {},
   "outputs": [],
   "source": []
  },
  {
   "cell_type": "markdown",
   "metadata": {},
   "source": [
    "<html>\n",
    "<body>\n",
    "<h1>HomeWork 1</h1>\n",
    "<p>Write a Python program that asks the user for their age and then prints out a message based on their age:</p>\n",
    "<ul>\n",
    "<li>If the user is under 18, print \"You are a minor.\"</li>\n",
    "<li>If the user is 18 or older, print \"You are an adult.\"</li>\n",
    "<li>If the user enters a negative number or a non-numeric value, print \"Invalid input.\"</li>\n",
    "</ul>\n",
    "</body>\n",
    "</html>\n",
    "\n"
   ]
  },
  {
   "cell_type": "markdown",
   "metadata": {},
   "source": [
    "<html>\n",
    "<body>\n",
    "<h1>HomeWork 2</h1>\n",
    "<p>Write a Python program that prints out the first 10 positive even numbers using a for loop.</p>\n",
    "<p>Hint: You can use the range() function to generate a sequence of numbers.</p>\n",
    "</body>\n",
    "</html>\n"
   ]
  }
 ],
 "metadata": {
  "kernelspec": {
   "display_name": "Python 3",
   "language": "python",
   "name": "python3"
  },
  "language_info": {
   "codemirror_mode": {
    "name": "ipython",
    "version": 3
   },
   "file_extension": ".py",
   "mimetype": "text/x-python",
   "name": "python",
   "nbconvert_exporter": "python",
   "pygments_lexer": "ipython3",
   "version": "3.12.2"
  }
 },
 "nbformat": 4,
 "nbformat_minor": 2
}
