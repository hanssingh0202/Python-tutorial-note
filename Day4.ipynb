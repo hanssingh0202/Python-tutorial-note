{
 "cells": [
  {
   "cell_type": "markdown",
   "metadata": {},
   "source": [
    "<h1>Sets</h1>\n",
    "<p>Set items are unordered, unchangeable, and do not allow duplicate values.</p>"
   ]
  },
  {
   "cell_type": "code",
   "execution_count": 100,
   "metadata": {},
   "outputs": [],
   "source": [
    "my_set = {1,2,3,4}"
   ]
  },
  {
   "cell_type": "markdown",
   "metadata": {},
   "source": [
    "<h3>Note</h3>\n",
    "<p>In set True and 1 are considered the same value and False and  0 considered the same value </p>"
   ]
  },
  {
   "cell_type": "code",
   "execution_count": 102,
   "metadata": {},
   "outputs": [
    {
     "name": "stdout",
     "output_type": "stream",
     "text": [
      "{False, True, 2, 3}\n"
     ]
    }
   ],
   "source": [
    "my_set = {True,1,2,3,False,0}\n",
    "print(my_set)"
   ]
  },
  {
   "cell_type": "code",
   "execution_count": null,
   "metadata": {},
   "outputs": [],
   "source": []
  },
  {
   "cell_type": "markdown",
   "metadata": {},
   "source": [
    "<h3>Python Built-in Methods for Sets</h3>\n",
    "<p>Python has a number of built-in methods that can be used to manipulate sets. Here are some of the most commonly used methods:</p>\n",
    "<ul>\n",
    "<li>add() - Adds an element to the set.</li>\n",
    "<li>remove() - Removes an element from the set.</li>\n",
    "<li>discard() - Removes an element from the set if it is present.</li>\n",
    "<li>pop() - Removes and returns an arbitrary element from the set.</li>\n",
    "<li>clear() - Removes all elements from the set.</li>\n",
    "<li>union() - Returns a new set containing all elements from the original set and another set.</li>\n",
    "<li>intersection() - Returns a new set containing only the elements common to the original set and another set.</li>\n",
    "<li>difference() - Returns a new set containing only the elements in the original set that are not in another set.</li>\n",
    "<li>symmetric_difference() - Returns a new set containing only the elements that are in exactly one of the original set and another set.</li>\n",
    "<li>issubset() - Returns True if the original set is a subset of another set.</li>\n",
    "<li>issuperset() - Returns True if the original set is a superset of another set.</li>\n",
    "<li>isdisjoint() - Returns True if the original set has no elements in common with another set.</li>\n",
    "</ul>\n"
   ]
  },
  {
   "cell_type": "code",
   "execution_count": 137,
   "metadata": {},
   "outputs": [
    {
     "name": "stdout",
     "output_type": "stream",
     "text": [
      "{3, 4, 7}\n"
     ]
    }
   ],
   "source": [
    "my_set= {1,2,3,4}\n",
    "new_set = {1,2,7}\n",
    "new_set_2 = my_set ^ new_set\n",
    "print(new_set_2)"
   ]
  },
  {
   "cell_type": "code",
   "execution_count": 132,
   "metadata": {},
   "outputs": [
    {
     "data": {
      "text/plain": [
       "set"
      ]
     },
     "execution_count": 132,
     "metadata": {},
     "output_type": "execute_result"
    }
   ],
   "source": [
    "new_set = set()\n",
    "type(new_set)"
   ]
  },
  {
   "cell_type": "markdown",
   "metadata": {},
   "source": [
    "<h1>Python Dictionaries</h1>\n",
    "\n",
    "<p>Dictionaries are used to store data values in key:value pairs.</p>\n",
    "\n",
    "<p>Dictionary items are ordered, changeable, and do not allow duplicates.</p>"
   ]
  },
  {
   "cell_type": "code",
   "execution_count": 140,
   "metadata": {},
   "outputs": [
    {
     "name": "stdout",
     "output_type": "stream",
     "text": [
      "{'name': 'hans', 'age': 27, 'city': 'patna'}\n"
     ]
    },
    {
     "data": {
      "text/plain": [
       "dict"
      ]
     },
     "execution_count": 140,
     "metadata": {},
     "output_type": "execute_result"
    }
   ],
   "source": [
    "person = {\"name\":\"hans\",\"age\":27,\"city\":\"patna\"}\n",
    "print(person)\n",
    "type(person)"
   ]
  },
  {
   "cell_type": "markdown",
   "metadata": {},
   "source": [
    "<h3>Python Built-in Methods for Dictionaries</h3>\n",
    "<p>Python has a number of built-in methods that can be used to manipulate dictionaries. Here are some of the most commonly used methods:</p>\n",
    "<ul>\n",
    "<li>clear() - Removes all items from the dictionary.</li>\n",
    "<li>copy() - Returns a copy of the dictionary.</li>\n",
    "<li>get() - Returns the value of the specified key.</li>\n",
    "<li>items() - Returns a view object that displays a list of dictionary's key-value tuple pairs.</li>\n",
    "<li>keys() - Returns a view object that displays a list of all the keys in the dictionary.</li>\n",
    "<li>pop() - Removes the item with the specified key.</li>\n",
    "<li>popitem() - Removes and returns the last inserted key-value pair.</li>\n",
    "<li>setdefault() - Returns the value of the specified key. If the key does not exist, it inserts the key with the specified value.</li>\n",
    "<li>update() - Updates the dictionary with the specified key-value pairs.</li>\n",
    "<li>values() - Returns a view object that displays a list of all values in the dictionary.</li>\n",
    "</ul>\n"
   ]
  },
  {
   "cell_type": "code",
   "execution_count": 168,
   "metadata": {},
   "outputs": [
    {
     "name": "stdout",
     "output_type": "stream",
     "text": [
      "dict_values(['hans', 27, 'patna'])\n"
     ]
    }
   ],
   "source": [
    "person = {\"name\":\"hans\",\"age\":27,\"city\":\"patna\"}\n",
    "print(person.values())\n"
   ]
  },
  {
   "cell_type": "code",
   "execution_count": null,
   "metadata": {},
   "outputs": [],
   "source": []
  },
  {
   "cell_type": "markdown",
   "metadata": {},
   "source": [
    "<h1>Python Try Except</h1>\n",
    "<p></p>The try block lets you test a block of code for errors.</p>\n",
    "\n",
    "<p>The except block lets you handle the error.</p>\n",
    "\n",
    "<p>The else block lets you execute code when there is no error.</p>\n",
    "\n",
    "<p>The finally block lets you execute code, regardless of the result of the try- and except blocks.</p>"
   ]
  },
  {
   "cell_type": "code",
   "execution_count": null,
   "metadata": {},
   "outputs": [],
   "source": []
  },
  {
   "cell_type": "markdown",
   "metadata": {},
   "source": [
    "<h3>Exception Handling</h3>\n"
   ]
  },
  {
   "cell_type": "code",
   "execution_count": 178,
   "metadata": {},
   "outputs": [
    {
     "name": "stdout",
     "output_type": "stream",
     "text": [
      "h\n",
      "a\n",
      "n\n",
      "s\n",
      "code runs\n"
     ]
    }
   ],
   "source": [
    "try:\n",
    "    s = \"hans\"\n",
    "    for i in s:\n",
    "        print(i)\n",
    "except:\n",
    "    print(\"Error\")\n",
    "finally:\n",
    "    print(\"code runs\")"
   ]
  },
  {
   "cell_type": "code",
   "execution_count": 174,
   "metadata": {},
   "outputs": [
    {
     "ename": "TypeError",
     "evalue": "'int' object is not iterable",
     "output_type": "error",
     "traceback": [
      "\u001b[1;31m---------------------------------------------------------------------------\u001b[0m",
      "\u001b[1;31mTypeError\u001b[0m                                 Traceback (most recent call last)",
      "Cell \u001b[1;32mIn[174], line 2\u001b[0m\n\u001b[0;32m      1\u001b[0m s \u001b[38;5;241m=\u001b[39m \u001b[38;5;241m4\u001b[39m\n\u001b[1;32m----> 2\u001b[0m \u001b[38;5;28;43;01mfor\u001b[39;49;00m\u001b[43m \u001b[49m\u001b[43mi\u001b[49m\u001b[43m \u001b[49m\u001b[38;5;129;43;01min\u001b[39;49;00m\u001b[43m \u001b[49m\u001b[43ms\u001b[49m\u001b[43m:\u001b[49m\n\u001b[0;32m      3\u001b[0m \u001b[43m    \u001b[49m\u001b[38;5;28;43mprint\u001b[39;49m\u001b[43m(\u001b[49m\u001b[43mi\u001b[49m\u001b[43m)\u001b[49m\n",
      "\u001b[1;31mTypeError\u001b[0m: 'int' object is not iterable"
     ]
    }
   ],
   "source": [
    "s = 4\n",
    "for i in s:\n",
    "    print(i)"
   ]
  },
  {
   "cell_type": "markdown",
   "metadata": {},
   "source": [
    "<h1>File Handling</h1>\n",
    "<p>The key function for working with files in Python is the open() function.</p>\n",
    "\n",
    "<p>The open() function takes two parameters; filename, and mode.</p>\n",
    "\n",
    "<p>There are four different methods (modes) for opening a file:</p>\n",
    "\n",
    "<p>\"r\" - Read - Default value. Opens a file for reading, error if the file does not exist</p>\n",
    "\n",
    "<p>\"a\" - Append - Opens a file for appending, creates the file if it does not exist</p>\n",
    "\n",
    "<p>\"w\" - Write - Opens a file for writing, creates the file if it does not exist</p>\n",
    "<p>\n",
    "\"x\" - Create - Creates the specified file, returns an error if the file exists</p>"
   ]
  },
  {
   "cell_type": "code",
   "execution_count": 190,
   "metadata": {},
   "outputs": [
    {
     "name": "stdout",
     "output_type": "stream",
     "text": [
      "3\n"
     ]
    }
   ],
   "source": [
    "f = open(\"name.txt\",\"a\")\n",
    "print(f.write(\"New\"))\n",
    "f.close()"
   ]
  },
  {
   "cell_type": "code",
   "execution_count": null,
   "metadata": {},
   "outputs": [],
   "source": []
  }
 ],
 "metadata": {
  "kernelspec": {
   "display_name": "Python 3",
   "language": "python",
   "name": "python3"
  },
  "language_info": {
   "codemirror_mode": {
    "name": "ipython",
    "version": 3
   },
   "file_extension": ".py",
   "mimetype": "text/x-python",
   "name": "python",
   "nbconvert_exporter": "python",
   "pygments_lexer": "ipython3",
   "version": "3.12.2"
  }
 },
 "nbformat": 4,
 "nbformat_minor": 2
}
