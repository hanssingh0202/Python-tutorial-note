{
 "cells": [
  {
   "cell_type": "markdown",
   "metadata": {},
   "source": [
    "<h1>Numpy</h1>"
   ]
  },
  {
   "cell_type": "markdown",
   "metadata": {},
   "source": [
    "<h3>What is NumPy?</h3>\n",
    "<p>NumPy is a Python library used for working with arrays.</p>\n",
    "<p>NumPy is Faster than the lists</p>"
   ]
  },
  {
   "cell_type": "code",
   "execution_count": 196,
   "metadata": {},
   "outputs": [],
   "source": [
    "import numpy as np\n"
   ]
  },
  {
   "cell_type": "code",
   "execution_count": 197,
   "metadata": {},
   "outputs": [],
   "source": [
    "arr = np.array([1,2,3])"
   ]
  },
  {
   "cell_type": "markdown",
   "metadata": {},
   "source": [
    "<h3>Dimensions in Arrays</h3>\n",
    "<p>Arrays are a fundamental data structure in programming, and understanding their dimensions is crucial for efficient memory management and algorithm design. In this section, we will explore the concept of dimensions in arrays and how they impact the way we access and manipulate data.</p>"
   ]
  },
  {
   "cell_type": "code",
   "execution_count": 200,
   "metadata": {},
   "outputs": [],
   "source": [
    "arr = np.array([1,2,3])\n",
    "arr1 = np.array([[1,2,3],[4,5,6]])\n",
    "arr2= np.array([[[1,2]],[[3,4]]])\n"
   ]
  },
  {
   "cell_type": "code",
   "execution_count": 204,
   "metadata": {},
   "outputs": [
    {
     "name": "stdout",
     "output_type": "stream",
     "text": [
      "1\n",
      "2\n"
     ]
    }
   ],
   "source": [
    "print(arr.ndim)\n",
    "print(arr1.ndim)"
   ]
  },
  {
   "cell_type": "code",
   "execution_count": 240,
   "metadata": {},
   "outputs": [
    {
     "name": "stdout",
     "output_type": "stream",
     "text": [
      "[3 5]\n"
     ]
    }
   ],
   "source": [
    "arr = np.array([1,2,3,4,5,6])\n",
    "print(arr[-4:-1:2])"
   ]
  },
  {
   "cell_type": "markdown",
   "metadata": {},
   "source": [
    "<h3>NumPy Array Indexing</h3>\n"
   ]
  },
  {
   "cell_type": "code",
   "execution_count": 248,
   "metadata": {},
   "outputs": [
    {
     "name": "stdout",
     "output_type": "stream",
     "text": [
      "[2 5 8]\n"
     ]
    }
   ],
   "source": [
    "arr1 = np.array([[1,2,3],[4,5,6],[7,8,9]])\n",
    "\n",
    "print(arr1[0:,-2])"
   ]
  },
  {
   "cell_type": "code",
   "execution_count": 260,
   "metadata": {},
   "outputs": [
    {
     "name": "stdout",
     "output_type": "stream",
     "text": [
      "[[ 1  2  3  4]\n",
      " [ 5  6  7  8]\n",
      " [ 9 10 11 12]\n",
      " [13 14 15 16]]\n"
     ]
    }
   ],
   "source": [
    "arr2 = np.array([[[1,2,3,4],[5,6,7,8],[9,10,11,12],[13,14,15,16]]])\n",
    "print(arr2[0])\n"
   ]
  },
  {
   "cell_type": "markdown",
   "metadata": {},
   "source": [
    "<h3>NumPy Array Slicing\n",
    "</h3>"
   ]
  },
  {
   "cell_type": "code",
   "execution_count": 214,
   "metadata": {},
   "outputs": [
    {
     "name": "stdout",
     "output_type": "stream",
     "text": [
      "[[1 2 3]\n",
      " [4 5 6]]\n"
     ]
    }
   ],
   "source": [
    "print(arr1[:])"
   ]
  },
  {
   "cell_type": "markdown",
   "metadata": {},
   "source": [
    "<h2>NumPy Data Types\n",
    "</h2>"
   ]
  },
  {
   "cell_type": "markdown",
   "metadata": {},
   "source": [
    "\n",
    "<h2>Data Types in NumPy</h2>\n",
    "\n",
    "<p>NumPy has several extra data types and uses a single character to represent each type.</p>\n",
    "\n",
    "<table border=\"1\" cellpadding=\"5\" cellspacing=\"0\">\n",
    "<tr>\n",
    "<th>Data Type</th>\n",
    "<th>Character Representation</th>\n",
    "<th>Description</th>\n",
    "</tr>\n",
    "<tr>\n",
    "<td>Integer</td>\n",
    "<td>i</td>\n",
    "<td>Whole numbers, either positive, negative, or zero.</td>\n",
    "</tr>\n",
    "<tr>\n",
    "<td>Boolean</td>\n",
    "<td>b</td>\n",
    "<td>True or False values.</td>\n",
    "</tr>\n",
    "<tr>\n",
    "<td>Float</td>\n",
    "<td>f</td>\n",
    "<td>Decimal numbers.</td>\n",
    "</tr>\n",
    "<tr>\n",
    "<td>Datetime</td>\n",
    "<td>M</td>\n",
    "<td>Specific dates and times.</td>\n",
    "</tr>\n",
    "<tr>\n",
    "<td>String</td>\n",
    "<td>S</td>\n",
    "<td>Byte strings.</td>\n",
    "</tr>\n",
    "<tr>\n",
    "<td>Unicode String</td>\n",
    "<td>U</td>\n",
    "<td>Unicode character strings.</td>\n",
    "</tr>\n",
    "</table>\n",
    "\n",
    "<p>These data types enable efficient storage and manipulation of data in NumPy arrays.</p>"
   ]
  },
  {
   "cell_type": "code",
   "execution_count": 271,
   "metadata": {},
   "outputs": [
    {
     "name": "stdout",
     "output_type": "stream",
     "text": [
      "int32\n",
      "[1 0]\n"
     ]
    }
   ],
   "source": [
    "arr = np.array([True,False],dtype='i')\n",
    "print(arr.dtype)\n",
    "print(arr)"
   ]
  },
  {
   "cell_type": "markdown",
   "metadata": {},
   "source": [
    "<h3>NumPy Array Copy vs View\n",
    "</h3>\n",
    "<p>The main difference between a copy and a view of an array is that the copy is a new array, and the view is just a view of the original array.</p>"
   ]
  },
  {
   "cell_type": "code",
   "execution_count": 280,
   "metadata": {},
   "outputs": [
    {
     "name": "stdout",
     "output_type": "stream",
     "text": [
      "[5 2 3 4 5]\n"
     ]
    }
   ],
   "source": [
    "arr = np.array([1,2,3,4,5])\n",
    "arr1 = arr.view()\n",
    "arr1[0] = 5\n",
    "print(arr)"
   ]
  },
  {
   "cell_type": "markdown",
   "metadata": {},
   "source": [
    "<h2>NumPy Array Shape\n",
    "</h2>"
   ]
  },
  {
   "cell_type": "code",
   "execution_count": 283,
   "metadata": {},
   "outputs": [
    {
     "name": "stdout",
     "output_type": "stream",
     "text": [
      "(2, 3)\n"
     ]
    }
   ],
   "source": [
    "arr = np.array([[1,2,3],[4,5,6]])\n",
    "print(arr.shape)"
   ]
  },
  {
   "cell_type": "markdown",
   "metadata": {},
   "source": [
    "<h3>NumPy Array Reshaping</h3>"
   ]
  },
  {
   "cell_type": "code",
   "execution_count": 291,
   "metadata": {},
   "outputs": [
    {
     "name": "stdout",
     "output_type": "stream",
     "text": [
      "[[[ 1  2]\n",
      "  [ 3  4]]\n",
      "\n",
      " [[ 5  6]\n",
      "  [ 7  8]]\n",
      "\n",
      " [[ 9 10]\n",
      "  [11 12]]\n",
      "\n",
      " [[13 14]\n",
      "  [15 16]]]\n"
     ]
    }
   ],
   "source": [
    "arr = np.array([1,2,3,4,5,6,7,8,9,10,11,12,13,14,15,16])\n",
    "print(arr.reshape(4,2,2))\n"
   ]
  },
  {
   "cell_type": "markdown",
   "metadata": {},
   "source": [
    "<h3>NumPy Joining Array</h3>"
   ]
  },
  {
   "cell_type": "code",
   "execution_count": 296,
   "metadata": {},
   "outputs": [
    {
     "name": "stdout",
     "output_type": "stream",
     "text": [
      "[1 2 3 4 5 6 7 8]\n"
     ]
    }
   ],
   "source": [
    "arr1 = np.array([1,2,3,4])\n",
    "arr2 = np.array([5,6,7,8])\n",
    "arr = np.concatenate((arr1,arr2))\n",
    "print(arr)"
   ]
  },
  {
   "cell_type": "code",
   "execution_count": 303,
   "metadata": {},
   "outputs": [
    {
     "ename": "AxisError",
     "evalue": "axis 2 is out of bounds for array of dimension 2",
     "output_type": "error",
     "traceback": [
      "\u001b[1;31m---------------------------------------------------------------------------\u001b[0m",
      "\u001b[1;31mAxisError\u001b[0m                                 Traceback (most recent call last)",
      "Cell \u001b[1;32mIn[303], line 3\u001b[0m\n\u001b[0;32m      1\u001b[0m arr1 \u001b[38;5;241m=\u001b[39m np\u001b[38;5;241m.\u001b[39marray([[\u001b[38;5;241m1\u001b[39m,\u001b[38;5;241m2\u001b[39m,\u001b[38;5;241m3\u001b[39m],[\u001b[38;5;241m4\u001b[39m,\u001b[38;5;241m5\u001b[39m,\u001b[38;5;241m6\u001b[39m]])\n\u001b[0;32m      2\u001b[0m arr2 \u001b[38;5;241m=\u001b[39m np\u001b[38;5;241m.\u001b[39marray([[\u001b[38;5;241m11\u001b[39m,\u001b[38;5;241m12\u001b[39m,\u001b[38;5;241m13\u001b[39m],[\u001b[38;5;241m14\u001b[39m,\u001b[38;5;241m15\u001b[39m,\u001b[38;5;241m16\u001b[39m]])\n\u001b[1;32m----> 3\u001b[0m arr \u001b[38;5;241m=\u001b[39m \u001b[43mnp\u001b[49m\u001b[38;5;241;43m.\u001b[39;49m\u001b[43mconcatenate\u001b[49m\u001b[43m(\u001b[49m\u001b[43m(\u001b[49m\u001b[43marr1\u001b[49m\u001b[43m,\u001b[49m\u001b[43marr2\u001b[49m\u001b[43m)\u001b[49m\u001b[43m,\u001b[49m\u001b[43maxis\u001b[49m\u001b[43m \u001b[49m\u001b[38;5;241;43m=\u001b[39;49m\u001b[43m \u001b[49m\u001b[38;5;241;43m2\u001b[39;49m\u001b[43m)\u001b[49m\n\u001b[0;32m      4\u001b[0m \u001b[38;5;28mprint\u001b[39m(arr)\n",
      "\u001b[1;31mAxisError\u001b[0m: axis 2 is out of bounds for array of dimension 2"
     ]
    }
   ],
   "source": [
    "arr1 = np.array([[1,2,3],[4,5,6]])\n",
    "arr2 = np.array([[11,12,13],[14,15,16]])\n",
    "arr = np.concatenate((arr1,arr2),axis = )\n",
    "print(arr)"
   ]
  },
  {
   "cell_type": "markdown",
   "metadata": {},
   "source": [
    "<h3>NumPy Splitting Array</h3>"
   ]
  },
  {
   "cell_type": "code",
   "execution_count": 309,
   "metadata": {},
   "outputs": [
    {
     "name": "stdout",
     "output_type": "stream",
     "text": [
      "[array([1]), array([2]), array([3]), array([], dtype=int32)]\n"
     ]
    }
   ],
   "source": [
    "arr = np.array([1,2,3])\n",
    "new = np.array_split(arr,4)\n",
    "\n",
    "print(new)"
   ]
  },
  {
   "cell_type": "code",
   "execution_count": 313,
   "metadata": {},
   "outputs": [
    {
     "name": "stdout",
     "output_type": "stream",
     "text": [
      "[array([[1, 2, 3]]), array([[4, 5, 6]])]\n"
     ]
    }
   ],
   "source": [
    "arr1 = np.array([[1,2,3],[4,5,6]])\n",
    "new = np.array_split(arr1,2)\n",
    "print(new)"
   ]
  },
  {
   "cell_type": "markdown",
   "metadata": {},
   "source": [
    "<h3>NumPy Sorting Arrays\n",
    "</h3>"
   ]
  },
  {
   "cell_type": "code",
   "execution_count": 320,
   "metadata": {},
   "outputs": [
    {
     "name": "stdout",
     "output_type": "stream",
     "text": [
      "4.5\n"
     ]
    }
   ],
   "source": [
    "arr = np.array([1,5,3,5,6,7])\n",
    "print(np.mean(arr))"
   ]
  },
  {
   "cell_type": "code",
   "execution_count": null,
   "metadata": {},
   "outputs": [],
   "source": []
  },
  {
   "cell_type": "markdown",
   "metadata": {},
   "source": [
    "Here is the content in correct HTML format:\n",
    "\n",
    "\n",
    "\n",
    "<h1>NumPy Cheat Sheet</h1>\n",
    "\n",
    "<h2>NumPy Basics</h2>\n",
    "<table border=\"1\" cellpadding=\"5\" cellspacing=\"0\">\n",
    "  <tr>\n",
    "    <th>Operator</th>\n",
    "    <th>Description</th>\n",
    "  </tr>\n",
    "  <tr>\n",
    "    <td><code>np.array([1,2,3])</code></td>\n",
    "    <td>1D array</td>\n",
    "  </tr>\n",
    "  <tr>\n",
    "    <td><code>np.array([(1,2,3),(4,5,6)])</code></td>\n",
    "    <td>2D array</td>\n",
    "  </tr>\n",
    "  <tr>\n",
    "    <td><code>np.arange(start,stop,step)</code></td>\n",
    "    <td>Range array</td>\n",
    "  </tr>\n",
    "</table>\n",
    "\n",
    "<h2>Placeholders</h2>\n",
    "<table border=\"1\" cellpadding=\"5\" cellspacing=\"0\">\n",
    "  <tr>\n",
    "    <th>Operator</th>\n",
    "    <th>Description</th>\n",
    "  </tr>\n",
    "  <tr>\n",
    "    <td><code>np.linspace(0,2,9)</code></td>\n",
    "    <td>Add evenly spaced values between interval to array of length</td>\n",
    "  </tr>\n",
    "  <tr>\n",
    "    <td><code>np.zeros((1,2))</code></td>\n",
    "    <td>Create an array filled with zeros</td>\n",
    "  </tr>\n",
    "  <tr>\n",
    "    <td><code>np.ones((1,2))</code></td>\n",
    "    <td>Create an array filled with ones</td>\n",
    "  </tr>\n",
    "  <tr>\n",
    "    <td><code>np.random.random((5,5))</code></td>\n",
    "    <td>Create a random array</td>\n",
    "  </tr>\n",
    "  <tr>\n",
    "    <td><code>np.empty((2,2))</code></td>\n",
    "    <td>Create an empty array</td>\n",
    "  </tr>\n",
    "</table>\n",
    "\n",
    "<h2>Array</h2>\n",
    "<table border=\"1\" cellpadding=\"5\" cellspacing=\"0\">\n",
    "  <tr>\n",
    "    <th>Operator</th>\n",
    "    <th>Description</th>\n",
    "  </tr>\n",
    "  <tr>\n",
    "    <td><code>array.shape</code></td>\n",
    "    <td>Dimensions (Rows, Columns)</td>\n",
    "  </tr>\n",
    "  <tr>\n",
    "    <td><code>len(array)</code></td>\n",
    "    <td>Length of array</td>\n",
    "  </tr>\n",
    "  <tr>\n",
    "    <td><code>array.ndim</code></td>\n",
    "    <td>Number of array dimensions</td>\n",
    "  </tr>\n",
    "  <tr>\n",
    "    <td><code>array.dtype</code></td>\n",
    "    <td>Data type</td>\n",
    "  </tr>\n",
    "  <tr>\n",
    "    <td><code>array.astype(type)</code></td>\n",
    "    <td>Convert to data type</td>\n",
    "  </tr>\n",
    "  <tr>\n",
    "    <td><code>type(array)</code></td>\n",
    "    <td>Type of array</td>\n",
    "  </tr>\n",
    "</table>\n",
    "\n",
    "<h2>Copying/Sorting</h2>\n",
    "<table border=\"1\" cellpadding=\"5\" cellspacing=\"0\">\n",
    "  <tr>\n",
    "    <th>Operator</th>\n",
    "    <th>Description</th>\n",
    "  </tr>\n",
    "  <tr>\n",
    "    <td><code>np.copy(array)</code></td>\n",
    "    <td>Create copy of array</td>\n",
    "  </tr>\n",
    "  <tr>\n",
    "    <td><code>other = array.copy()</code></td>\n",
    "    <td>Create deep copy of array</td>\n",
    "  </tr>\n",
    "  <tr>\n",
    "    <td><code>array.sort()</code></td>\n",
    "    <td>Sort array</td>\n",
    "  </tr>\n",
    "  <tr>\n",
    "    <td><code>array.sort(axis=0)</code></td>\n",
    "    <td>Sort axis of array</td>\n",
    "  </tr>\n",
    "</table>\n",
    "\n",
    "<h1>Array Manipulation</h1>\n",
    "\n",
    "<h2>Adding or Removing Elements</h2>\n",
    "<table border=\"1\" cellpadding=\"5\" cellspacing=\"0\">\n",
    "  <tr>\n",
    "    <th>Operator</th>\n",
    "    <th>Description</th>\n",
    "  </tr>\n",
    "  <tr>\n",
    "    <td><code>np.append(a,b)</code></td>\n",
    "    <td>Append items to array</td>\n",
    "  </tr>\n",
    "  <tr>\n",
    "    <td><code>np.insert(array, 1, 2, axis)</code></td>\n",
    "    <td>Insert items into array at axis 0 or 1</td>\n",
    "  </tr>\n",
    "  <tr>\n",
    "    <td><code>np.resize((2,4))</code></td>\n",
    "    <td>Resize array to shape (2,4)</td>\n",
    "  </tr>\n"
   ]
  },
  {
   "cell_type": "markdown",
   "metadata": {},
   "source": [
    "Here is the rest of the content in correct HTML format:\n",
    "\n",
    "\n",
    "<h2>Combining Arrays</h2>\n",
    "<table border=\"1\" cellpadding=\"5\" cellspacing=\"0\">\n",
    "<tr>\n",
    "<th>Operator</th>\n",
    "<th>Description</th>\n",
    "</tr>\n",
    "<tr>\n",
    "<td><code>np.concatenate((a,b),axis=0)</code></td>\n",
    "<td>Split an array into multiple sub-arrays</td>\n",
    "</tr>\n",
    "<tr>\n",
    "<td><code>np.vstack((a,b))</code></td>\n",
    "<td>Split an array into sub-arrays of (nearly) identical size</td>\n",
    "</tr>\n",
    "<tr>\n",
    "<td><code>np.hstack((a,b))</code></td>\n",
    "<td>Split the array horizontally at 3rd index</td>\n",
    "</tr>\n",
    "</table>\n",
    "\n",
    "\n",
    "<h2>More</h2>\n",
    "<table border=\"1\" cellpadding=\"5\" cellspacing=\"0\">\n",
    "<tr>\n",
    "<th>Operator</th>\n",
    "<th>Description</th>\n",
    "</tr>\n",
    "<tr>\n",
    "<td><code>other = ndarray.flatten()</code></td>\n",
    "<td>Flattens a 2D array to 1D</td>\n",
    "</tr>\n",
    "<tr>\n",
    "<td><code>array = np.transpose(other)</code></td>\n",
    "<td>Transpose array</td>\n",
    "</tr>\n",
    "<tr>\n",
    "<td><code>array.T</code></td>\n",
    "<td>Transpose array</td>\n",
    "</tr>\n",
    "<tr>\n",
    "<td><code>inverse = np.linalg.inv(matrix)</code></td>\n",
    "<td>Inverse of a given matrix</td>\n",
    "</tr>\n",
    "</table>\n",
    "\n",
    "\n",
    "<h1>Slicing and Subsetting</h1>\n",
    "<table border=\"1\" cellpadding=\"5\" cellspacing=\"0\">\n",
    "<tr>\n",
    "<th>Operator</th>\n",
    "<th>Description</th>\n",
    "</tr>\n",
    "<tr>\n",
    "<td><code>array[i]</code></td>\n",
    "<td>1D array at index i</td>\n",
    "</tr>\n",
    "<tr>\n",
    "<td><code>array[i,j]</code></td>\n",
    "<td>2D array at index [i][j]</td>\n",
    "</tr>\n",
    "<tr>\n",
    "<td><code>array[i<4]</code></td>\n",
    "<td>Boolean Indexing</td>\n",
    "</tr>\n",
    "<tr>\n",
    "<td><code>array[0:3]</code></td>\n",
    "<td>Select items of index 0, 1, and 2</td>\n",
    "</tr>\n",
    "<tr>\n",
    "<td><code>array[0:2,1]</code></td>\n",
    "<td>Select items of rows 0 and 1 at column 1</td>\n",
    "</tr>\n",
    "<tr>\n",
    "<td><code>array[:1]</code></td>\n",
    "<td>Select items of row 0 (equals array[0:1, :])</td>\n",
    "</tr>\n",
    "<tr>\n",
    "<td><code>array[1:2, :]</code></td>\n",
    "<td>Select items of row 1</td>\n",
    "</tr>\n",
    "<tr>\n",
    "<td><code>array[1,...]</code></td>\n",
    "<td>Select items of row 1</td>\n",
    "</tr>\n",
    "<tr>\n",
    "<td><code>array[ : :-1]</code></td>\n",
    "<td>Reverses array</td>\n",
    "</tr>\n",
    "</table>\n",
    "\n",
    "\n",
    "<h1>Mathematics</h1>\n",
    "\n",
    "\n",
    "<h2>Operations</h2>\n",
    "<table border=\"1\" cellpadding=\"5\" cellspacing=\"0\">\n",
    "<tr>\n",
    "<th>Operator</th>\n",
    "<th>Description</th>\n",
    "</tr>\n",
    "<tr>\n",
    "<td><code>np.add(x,y)</code></td>\n",
    "<td>Addition</td>\n",
    "</tr>\n",
    "<tr>\n",
    "<td><code>np.subtract(x,y)</code></td>\n",
    "<td>Subtraction</td>\n",
    "</tr>\n",
    "<tr>\n",
    "<td><code>np.divide(x,y)</code></td>\n",
    "<td>Division</td>\n",
    "</tr>\n",
    "<tr>\n",
    "<td><code>np.multiply(x,y)</code></td>\n",
    "<td>Multiplication</td>\n",
    "</tr>\n",
    "<tr>\n",
    "<td><code>np.sqrt(x)</code></td>\n",
    "<td>Square Root</td>\n",
    "</tr>\n",
    "<tr>\n",
    "<td><code>np.sin(x)</code></td>\n",
    "<td>Element-wise sine</td>\n",
    "</tr>\n",
    "<tr>\n",
    "\n",
    "<tr>\n",
    "<td><code>np.cos(x)</code></td>\n",
    "<td>Element-wise cosine</td>\n",
    "</tr>\n",
    "<tr>\n",
    "<td><code>np.log(x)</code></td>\n",
    "<td>Element-wise natural log</td>\n",
    "</tr>\n",
    "<tr>\n",
    "<td><code>np.dot(x,y)</code></td>\n",
    "<td>Dot product</td>\n",
    "</tr>\n",
    "<tr>\n",
    "<td><code>np.roots([1,0,-4])</code></td>\n",
    "<td>Roots of a given polynomial coefficients</td>\n",
    "</tr>"
   ]
  },
  {
   "cell_type": "markdown",
   "metadata": {},
   "source": [
    "\n",
    "\n",
    "\n",
    "\n",
    "<h2>Comparison</h2>\n",
    "<table border=\"1\" cellpadding=\"5\" cellspacing=\"0\">\n",
    "<tr>\n",
    "<th>Operator</th>\n",
    "<th>Description</th>\n",
    "</tr>\n",
    "<tr>\n",
    "<td><code>==</code></td>\n",
    "<td>Equal</td>\n",
    "</tr>\n",
    "<tr>\n",
    "<td><code>!=</code></td>\n",
    "<td>Not equal</td>\n",
    "</tr>\n",
    "<tr>\n",
    "<td><code>&lt;</code></td>\n",
    "<td>Smaller than</td>\n",
    "</tr>\n",
    "<tr>\n",
    "<td><code>&gt;</code></td>\n",
    "<td>Greater than</td>\n",
    "</tr>\n",
    "<tr>\n",
    "<td><code>&lt;=</code></td>\n",
    "<td>Smaller than or equal</td>\n",
    "</tr>\n",
    "<tr>\n",
    "<td><code>&gt;=</code></td>\n",
    "<td>Greater than or equal</td>\n",
    "</tr>\n",
    "<tr>\n",
    "<td><code>np.array_equal(x,y)</code></td>\n",
    "<td>Array-wise comparison</td>\n",
    "</tr>\n",
    "</table>\n",
    "\n",
    "\n",
    "<h1>Basic Statistics</h1>\n",
    "<table border=\"1\" cellpadding=\"5\" cellspacing=\"0\">\n",
    "<tr>\n",
    "<th>Operator</th>\n",
    "<th>Description</th>\n",
    "</tr>\n",
    "<tr>\n",
    "<td><code>np.mean(array)</code></td>\n",
    "<td>Mean</td>\n",
    "</tr>\n",
    "<tr>\n",
    "<td><code>np.median(array)</code></td>\n",
    "<td>Median</td>\n",
    "</tr>\n",
    "<tr>\n",
    "<td><code>array.corrcoef()</code></td>\n",
    "<td>Correlation Coefficient</td>\n",
    "</tr>\n",
    "<tr>\n",
    "<td><code>np.std(array)</code></td>\n",
    "<td>Standard Deviation</td>\n",
    "</tr>\n",
    "</table>\n",
    "\n",
    "\n",
    "<h2>More</h2>\n",
    "<table border=\"1\" cellpadding=\"5\" cellspacing=\"0\">\n",
    "<tr>\n",
    "<th>Operator</th>\n",
    "<th>Description</th>\n",
    "</tr>\n",
    "<tr>\n",
    "<td><code>array.sum()</code></td>\n",
    "<td>Array-wise sum</td>\n",
    "</tr>\n",
    "<tr>\n",
    "<td><code>array.min()</code></td>\n",
    "<td>Array-wise minimum value</td>\n",
    "</tr>\n",
    "<tr>\n",
    "<td><code>array.max(axis=0)</code></td>\n",
    "<td>Maximum value of specified axis</td>\n",
    "</tr>\n",
    "<tr>\n",
    "<td><code>array.cumsum(axis=0)</code></td>\n",
    "<td>Cumulative sum of specified axis</td>\n",
    "</tr>\n",
    "</table>\n",
    "\n",
    "\n"
   ]
  }
 ],
 "metadata": {
  "kernelspec": {
   "display_name": "Python 3",
   "language": "python",
   "name": "python3"
  },
  "language_info": {
   "codemirror_mode": {
    "name": "ipython",
    "version": 3
   },
   "file_extension": ".py",
   "mimetype": "text/x-python",
   "name": "python",
   "nbconvert_exporter": "python",
   "pygments_lexer": "ipython3",
   "version": "3.12.2"
  }
 },
 "nbformat": 4,
 "nbformat_minor": 2
}
