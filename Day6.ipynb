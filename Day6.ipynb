{
 "cells": [
  {
   "cell_type": "markdown",
   "metadata": {},
   "source": [
    "<h1>Python OOPs</h1>"
   ]
  },
  {
   "cell_type": "markdown",
   "metadata": {},
   "source": [
    "<h1>Inheritance</h1>\n",
    "<p>In Python, inheritance is the process of inheriting the properties of the base class (or parent class) into a derived class (or child class)</p>\n",
    "<p>In an Object-oriented programming language, inheritance is an important aspect. Using inheritance we can reuse parent class code. Inheritance allows us to define a class that inherits all the methods and properties from parent class. The parent class or super or base class is the class which gives all the methods and properties. Child class is the class that inherits from another or parent class.</p>\n",
    "<p>In inheritance, the child class acquires and access all the data members, properties, and functions from the parent class. Also, a child class can also provide its specific implementation to the functions of the parent class</p>"
   ]
  },
  {
   "cell_type": "code",
   "execution_count": 98,
   "metadata": {},
   "outputs": [
    {
     "name": "stdout",
     "output_type": "stream",
     "text": [
      "ravi\n",
      "10acr\n"
     ]
    }
   ],
   "source": [
    "class parent:\n",
    "    def __init__(self,name,car):\n",
    "        self.name = name \n",
    "        self.car = car\n",
    "        #self.land = land\n",
    "        #self.house = house\n",
    "class child(parent):\n",
    "    def __init__(self,name,car):\n",
    "        super().__init__(name,car)\n",
    "        \n",
    "obj1 = parent(\"hans\",\"bmw\")\n",
    "obj2 = child(\"ravi\",\"audi\")\n",
    "print(obj2.name)\n",
    "obj1.land = \"10acr\"\n",
    "print(obj1.land)\n"
   ]
  },
  {
   "cell_type": "code",
   "execution_count": 77,
   "metadata": {},
   "outputs": [
    {
     "name": "stdout",
     "output_type": "stream",
     "text": [
      "house\n"
     ]
    }
   ],
   "source": [
    "class parent:\n",
    "    def __init__(self,name,car,land,house):\n",
    "        self.name = \"hans\"\n",
    "        self.car = \"bmw\"\n",
    "        self.land = \"acr\"\n",
    "        self.house = \"house\"\n",
    "class child(parent):\n",
    "    def __init__(self,name,car,land,house):\n",
    "        super().__init__(name,car,land,house)\n",
    "        self.name = name\n",
    "        self.car = car\n",
    "        \n",
    "obj2 = child(\"ravi\",\"audi\",\"10acr\",\"house\")\n",
    "print(obj2.house)"
   ]
  },
  {
   "cell_type": "markdown",
   "metadata": {},
   "source": [
    "<h1>Encapsulation</h1>\n",
    "<p>In Python, encapsulation is a method of wrapping data and functions into a single entity. For example, A class encapsulates all the data (methods and variables). Encapsulation means the internal representation of an object is generally hidden from outside of the object’s definition.</p>"
   ]
  },
  {
   "cell_type": "code",
   "execution_count": 108,
   "metadata": {},
   "outputs": [
    {
     "name": "stdout",
     "output_type": "stream",
     "text": [
      "total amount credited: 5000\n"
     ]
    },
    {
     "data": {
      "text/plain": [
       "25000"
      ]
     },
     "execution_count": 108,
     "metadata": {},
     "output_type": "execute_result"
    }
   ],
   "source": [
    "class account:\n",
    "    def __init__(self,bal,acc_num):\n",
    "        self.bal = bal\n",
    "        self.acc_num = acc_num\n",
    "    def debit(self,amount):\n",
    "        self.bal -= amount\n",
    "        print(f\"total amount debited: {amount}\")\n",
    "    \n",
    "    def credit(self,amount):\n",
    "        self.bal += amount\n",
    "        print(f\"total amount credited: {amount}\")\n",
    "    def get_balance (self):\n",
    "        return self.bal\n",
    "acc1 = account(10000,1234)\n",
    "acc2 = account(20000,2345)\n",
    "acc2.credit(5000)\n",
    "acc2.get_balance()"
   ]
  },
  {
   "cell_type": "markdown",
   "metadata": {},
   "source": [
    "<h1>Polymorphism</h1>\n",
    "<p>Polymorphism is based on the greek words Poly (many) and morphism (forms). We will create a structure that can take or use many forms of objects.\n",
    "\n",
    "Polymorphism is an ability (in OOP) to use a common interface for multiple forms (data types).</p>\n"
   ]
  },
  {
   "cell_type": "code",
   "execution_count": 112,
   "metadata": {},
   "outputs": [
    {
     "name": "stdout",
     "output_type": "stream",
     "text": [
      "hans is a son\n"
     ]
    }
   ],
   "source": [
    "class person:\n",
    "    def __init__(self,name):\n",
    "        self.name = name\n",
    "    def role(self):\n",
    "        pass\n",
    "class school(person):\n",
    "    def role(self):\n",
    "        return f\"{self.name} is student\"\n",
    "class office(person):\n",
    "    def role(self):\n",
    "        return f\"{self.name} is employee\"\n",
    "class home(person):\n",
    "    def role(self):\n",
    "        return f\"{self.name} is a son\"\n",
    "obj1 = school(\"Hans\")\n",
    "obj2 = office(\"hans\")\n",
    "obj3 = home(\"hans\")\n",
    "print(obj3.role())"
   ]
  },
  {
   "cell_type": "markdown",
   "metadata": {},
   "source": [
    "<h1>Abstraction</h1>\n",
    "<p>Hiding the implementation details of a class and only showing the essential features to the user</p>"
   ]
  },
  {
   "cell_type": "code",
   "execution_count": 114,
   "metadata": {},
   "outputs": [
    {
     "name": "stdout",
     "output_type": "stream",
     "text": [
      "car stopped\n"
     ]
    }
   ],
   "source": [
    "class car:\n",
    "    def __init__(self):\n",
    "        self.acc = False\n",
    "        self.clutch = False\n",
    "        self.brk = False\n",
    "    def start(self):\n",
    "        self.acc = True\n",
    "        self.clutch = True\n",
    "        self.brk = False\n",
    "        print(\"car started\")\n",
    "    def stop(self):\n",
    "        self.acc = False\n",
    "        self.clutch = False\n",
    "        self.brk = True\n",
    "        print(\"car stopped\")\n",
    "\n",
    "obj1 = car()\n",
    "obj1.stop()"
   ]
  },
  {
   "cell_type": "markdown",
   "metadata": {},
   "source": [
    "<h1>Homework</h1>\n",
    "\n",
    "<p>Create a class called <code>PersonAccount</code>. It has the following properties:</p>\n",
    "\n",
    "<ul>\n",
    "<li><code>firstname</code></li>\n",
    "<li><code>lastname</code></li>\n",
    "<li><code>incomes</code> (a set of incomes and their descriptions)</li>\n",
    "<li><code>expenses</code> (a set of expenses and their descriptions)</li>\n",
    "</ul>\n",
    "<p>And the following methods:</p>\n",
    "\n",
    "<ul>\n",
    "<li><code>total_income()</code> (calculates the total income)</li>\n",
    "<li><code>total_expense()</code> (calculates the total expense)</li>\n",
    "<li><code>account_info()</code> (returns the account information)</li>\n",
    "<li><code>add_income(description, amount)</code> (adds a new income with its description and amount)</li>\n",
    "<li><code>add_expense(description, amount)</code> (adds a new expense with its description and amount)</li>\n",
    "<li><code>account_balance()</code> (calculates the account balance by subtracting the total expense from the total income)</li>\n",
    "</ul>\n",
    "\n",
    "<p>Write the Python code for this class.</p>"
   ]
  }
 ],
 "metadata": {
  "kernelspec": {
   "display_name": "Python 3",
   "language": "python",
   "name": "python3"
  },
  "language_info": {
   "codemirror_mode": {
    "name": "ipython",
    "version": 3
   },
   "file_extension": ".py",
   "mimetype": "text/x-python",
   "name": "python",
   "nbconvert_exporter": "python",
   "pygments_lexer": "ipython3",
   "version": "3.12.2"
  }
 },
 "nbformat": 4,
 "nbformat_minor": 2
}
