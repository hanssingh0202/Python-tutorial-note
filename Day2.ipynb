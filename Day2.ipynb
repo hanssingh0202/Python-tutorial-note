{
 "cells": [
  {
   "cell_type": "markdown",
   "metadata": {},
   "source": [
    "<h1>Functions in Python</h1>\n",
    "\n",
    "<h2>What is a Function?</h2>\n",
    "\n",
    "<p>A function is a block of code that can be executed multiple times from different parts of your program.</p>\n",
    "\n",
    "<h2>Key Features of Functions</h2>\n",
    "\n",
    "<ul>\n",
    "<li>Functions can take arguments (inputs)</li>\n",
    "<li>Functions can return values</li>\n",
    "</ul>\n",
    "\n"
   ]
  },
  {
   "cell_type": "code",
   "execution_count": 3,
   "metadata": {},
   "outputs": [
    {
     "name": "stdout",
     "output_type": "stream",
     "text": [
      "hans singh\n"
     ]
    }
   ],
   "source": [
    "def my_func(x,y):\n",
    "    print(x+' '+y)\n",
    "my_func(\"hans\",\"singh\")"
   ]
  },
  {
   "cell_type": "markdown",
   "metadata": {},
   "source": [
    "<h2>Basic Syntax of a Function</h2>\n",
    "\n",
    "<pre>\n",
    "<code>def function_name(parameters):\n",
    "# code to be executed\n",
    "return value</code>\n",
    "</pre>\n",
    "\n",
    "<h2>Explanation</h2>\n",
    "\n",
    "<p>In this syntax:</p>\n",
    "\n",
    "<ul>\n",
    "<li><code>def</code> is the keyword used to define a function</li>\n",
    "<li><code>function_name</code> is the name given to the function</li>\n",
    "<li><code>parameters</code> are the inputs to the function</li>\n",
    "<li><code>return value</code> is the output of the function</li>\n",
    "</ul>\n"
   ]
  },
  {
   "cell_type": "code",
   "execution_count": 4,
   "metadata": {},
   "outputs": [
    {
     "name": "stdout",
     "output_type": "stream",
     "text": [
      "15\n"
     ]
    }
   ],
   "source": [
    "def total(x,y):\n",
    "    return x+y\n",
    "print(total(10,5))"
   ]
  },
  {
   "cell_type": "code",
   "execution_count": null,
   "metadata": {},
   "outputs": [],
   "source": []
  },
  {
   "cell_type": "markdown",
   "metadata": {},
   "source": [
    "<h2>Number of Arguments</h2>\n",
    "\n",
    "<p>By default, a function must be called with the correct number of arguments</p>\n"
   ]
  },
  {
   "cell_type": "code",
   "execution_count": 6,
   "metadata": {},
   "outputs": [
    {
     "name": "stdout",
     "output_type": "stream",
     "text": [
      "7\n"
     ]
    }
   ],
   "source": [
    "def total(x,y):\n",
    "    return x+y\n",
    "print(total(3,4))"
   ]
  },
  {
   "cell_type": "code",
   "execution_count": 11,
   "metadata": {},
   "outputs": [
    {
     "name": "stdout",
     "output_type": "stream",
     "text": [
      "number 11\n"
     ]
    }
   ],
   "source": [
    "x = 10\n",
    "def add():\n",
    "    y = 11\n",
    "    print(\"number\",y)\n",
    "add()"
   ]
  },
  {
   "cell_type": "markdown",
   "metadata": {},
   "source": [
    "<h2>Types of Python Function Arguments</h2>\n",
    "\n",
    "<p>Python supports various types of arguments that can be passed at the time of the function call.</p>\n",
    "\n",
    "<ul>\n",
    "<li><b>1. Positional Arguments</b></li>\n",
    "<li><b>2. Default Arguments</b></li>\n",
    "<li><b>3. Keyword Arguments (Named Arguments)</b></li>\n",
    "<li><b>4. Arbitrary Arguments (Variable-length Arguments)</b>\n",
    "<ul>\n",
    "<li><code>*args</code></li>\n",
    "<li><code>**kwargs</code></li>\n",
    "</ul>\n",
    "</li>\n",
    "</ul>\n"
   ]
  },
  {
   "cell_type": "markdown",
   "metadata": {},
   "source": [
    "<li><b>1. Positional Arguments</b></li>\n"
   ]
  },
  {
   "cell_type": "code",
   "execution_count": 13,
   "metadata": {},
   "outputs": [
    {
     "name": "stdout",
     "output_type": "stream",
     "text": [
      "Name: 27, Age: hans\n"
     ]
    }
   ],
   "source": [
    "def person(name,age):\n",
    "    print(f\"Name: {name}, Age: {age}\")\n",
    "person(27,\"hans\")"
   ]
  },
  {
   "cell_type": "markdown",
   "metadata": {},
   "source": [
    "<li><b>2. Default Arguments</b></li>\n"
   ]
  },
  {
   "cell_type": "code",
   "execution_count": 21,
   "metadata": {},
   "outputs": [
    {
     "name": "stdout",
     "output_type": "stream",
     "text": [
      "name: raviage: 27\n"
     ]
    }
   ],
   "source": [
    "def person(age, name=\"hans\"):\n",
    "    print(\"name:\",name + \"age:\",age)\n",
    "person(27,'ravi')"
   ]
  },
  {
   "cell_type": "markdown",
   "metadata": {},
   "source": [
    "<li><b>3. Keyword Arguments (Named Arguments)</b></li>\n"
   ]
  },
  {
   "cell_type": "code",
   "execution_count": 23,
   "metadata": {},
   "outputs": [
    {
     "name": "stdout",
     "output_type": "stream",
     "text": [
      "Hans singh\n",
      "Hans singh\n"
     ]
    }
   ],
   "source": [
    "def name(firstname,lastname):\n",
    "    print(firstname,lastname)\n",
    "name(firstname='Hans',lastname=\"singh\")\n",
    "name(lastname=\"singh\", firstname= \"Hans\")"
   ]
  },
  {
   "cell_type": "markdown",
   "metadata": {},
   "source": [
    "<h2>Practice Questions</h2>\n",
    "<p>1. Write a function to calculate the area of a rectangle.\n",
    "</p>\n",
    "<p>2. Write a function to check if a number is even or odd.\n",
    "</p>\n",
    "<p>3. Write a function to find the maximum of three numbers.\n",
    "</p>\n",
    "<p>4.Write a function to reverse a string.\n",
    "</p>"
   ]
  },
  {
   "cell_type": "code",
   "execution_count": 26,
   "metadata": {},
   "outputs": [
    {
     "name": "stdout",
     "output_type": "stream",
     "text": [
      "200\n"
     ]
    }
   ],
   "source": [
    "def area(l,w):\n",
    "    return l*w\n",
    "print(area(10,20))\n"
   ]
  },
  {
   "cell_type": "code",
   "execution_count": 28,
   "metadata": {},
   "outputs": [
    {
     "name": "stdout",
     "output_type": "stream",
     "text": [
      "Even\n"
     ]
    }
   ],
   "source": [
    "def check(num):\n",
    "    if num % 2 == 0:\n",
    "        return \"Even\"\n",
    "    else:\n",
    "        return 'Odd'\n",
    "print(check(20))"
   ]
  },
  {
   "cell_type": "code",
   "execution_count": 30,
   "metadata": {},
   "outputs": [
    {
     "name": "stdout",
     "output_type": "stream",
     "text": [
      "10\n"
     ]
    }
   ],
   "source": [
    "def max_num(x,y,z):\n",
    "    return min(x,y,z)\n",
    "print(max_num(10,20,30))"
   ]
  },
  {
   "cell_type": "code",
   "execution_count": 31,
   "metadata": {},
   "outputs": [
    {
     "name": "stdout",
     "output_type": "stream",
     "text": [
      "snah\n"
     ]
    }
   ],
   "source": [
    "def reverse(s):\n",
    "    return s[::-1]\n",
    "print(reverse(\"hans\"))"
   ]
  },
  {
   "cell_type": "markdown",
   "metadata": {},
   "source": [
    "<h2>Arbitrary Arguments, *args</h2>\n",
    "<p>If you do not know how many arguments that will be passed into your function, add a * before the parameter name in the function definition.</p>"
   ]
  },
  {
   "cell_type": "code",
   "execution_count": 33,
   "metadata": {},
   "outputs": [
    {
     "name": "stdout",
     "output_type": "stream",
     "text": [
      "6\n"
     ]
    }
   ],
   "source": [
    "def sum_num(*args):\n",
    "    return max(args)\n",
    "print(sum_num(2,3,4,5,6))"
   ]
  },
  {
   "cell_type": "markdown",
   "metadata": {},
   "source": [
    "<h2>Arbitrary Keyword Arguments, **kwargs</h2>\n",
    "<p>If you do not know how many keyword arguments that will be passed into your function, add two asterisk: ** before the parameter name in the function definition.</p>"
   ]
  },
  {
   "cell_type": "code",
   "execution_count": 37,
   "metadata": {},
   "outputs": [
    {
     "name": "stdout",
     "output_type": "stream",
     "text": [
      "{'name': 'hans', 'age': '27', 'city': 'patna'}\n"
     ]
    }
   ],
   "source": [
    "def person(**kwargs):\n",
    "    print(kwargs)\n",
    "person(name= \"hans\", age =\"27\",city=\"patna\")"
   ]
  },
  {
   "cell_type": "code",
   "execution_count": null,
   "metadata": {},
   "outputs": [],
   "source": []
  },
  {
   "cell_type": "markdown",
   "metadata": {},
   "source": [
    "\n",
    "<h2>Lambda Functions</h2>\n",
    "\n",
    "<p>A lambda function is a small, anonymous function in Python that can take any number of arguments, but can only have one expression.</p>\n",
    "\n",
    "\n"
   ]
  },
  {
   "cell_type": "code",
   "execution_count": 39,
   "metadata": {},
   "outputs": [
    {
     "name": "stdout",
     "output_type": "stream",
     "text": [
      "30\n"
     ]
    }
   ],
   "source": [
    "x = lambda x,y: x*y\n",
    "print(x(5,6))"
   ]
  },
  {
   "cell_type": "markdown",
   "metadata": {},
   "source": [
    "<h2>Homework Questions</h2>\n",
    "\n",
    "<h3>Question</h3>\n",
    "\n",
    "<p>Write a Python function named greet that takes a person's name as an argument and prints out a greeting message. The message should be in the format \"Hello, <name>!\"</p>\n"
   ]
  }
 ],
 "metadata": {
  "kernelspec": {
   "display_name": "Python 3",
   "language": "python",
   "name": "python3"
  },
  "language_info": {
   "codemirror_mode": {
    "name": "ipython",
    "version": 3
   },
   "file_extension": ".py",
   "mimetype": "text/x-python",
   "name": "python",
   "nbconvert_exporter": "python",
   "pygments_lexer": "ipython3",
   "version": "3.12.2"
  }
 },
 "nbformat": 4,
 "nbformat_minor": 2
}
