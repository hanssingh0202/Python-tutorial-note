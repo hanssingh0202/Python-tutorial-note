{
 "cells": [
  {
   "cell_type": "markdown",
   "metadata": {},
   "source": [
    "<h2>Python Strings</h2>\n",
    "<p></p>Strings in python are surrounded by either single quotation marks, or double quotation marks.</p>"
   ]
  },
  {
   "cell_type": "code",
   "execution_count": 1,
   "metadata": {},
   "outputs": [
    {
     "name": "stdout",
     "output_type": "stream",
     "text": [
      "hans\n",
      "singh\n"
     ]
    }
   ],
   "source": [
    "print('''hans\n",
    "singh''')"
   ]
  },
  {
   "cell_type": "markdown",
   "metadata": {},
   "source": [
    "<h3>Assign String to a Variable</h3>\n",
    "<p></p>Assigning a string to a variable is done with the variable name followed by an equal sign and the string:</p>"
   ]
  },
  {
   "cell_type": "code",
   "execution_count": 2,
   "metadata": {},
   "outputs": [],
   "source": [
    "name = \"hans\""
   ]
  },
  {
   "cell_type": "markdown",
   "metadata": {},
   "source": [
    "<h3>String Slicing</h3>\n"
   ]
  },
  {
   "cell_type": "code",
   "execution_count": 3,
   "metadata": {},
   "outputs": [],
   "source": [
    "name = \"My name is hans\""
   ]
  },
  {
   "cell_type": "code",
   "execution_count": 4,
   "metadata": {},
   "outputs": [
    {
     "name": "stdout",
     "output_type": "stream",
     "text": [
      "snah si eman yM\n"
     ]
    }
   ],
   "source": [
    "print(name[::-1])"
   ]
  },
  {
   "cell_type": "markdown",
   "metadata": {},
   "source": [
    "<h3>Python built in Methods for Strings</h3>\n",
    "<p>Python has a number of built-in methods that can be used to manipulate strings. Here are \n",
    "some of the most commonly used methods:</p>\n",
    "<ul>\n",
    "<li>lower() - Converts a string to lowercase.</li>\n",
    "<li>upper() - Converts a string to uppercase.</li>\n",
    "<li>title() - Converts a string to title case.</li>\n",
    "<li>strip() - Removes leading and trailing whitespace from a string.</li>\n",
    "<li>split() - Splits a string into a list of words.</li>\n",
    "<li>index() - Returns the index of the first occurrence of substring</li>\n",
    "<li>count() - Returns the number of occurrence of the substring in string</li>\n",
    "<li>join()  - Return a string with elements of iterable joined</li>\n",
    "<li>replace() - Return a string with occurrences of old replaced</li>\n",
    "<li>swapcase() - Return a string with case swapped</li>\n",
    "\n",
    "</ul>"
   ]
  },
  {
   "cell_type": "code",
   "execution_count": 5,
   "metadata": {},
   "outputs": [
    {
     "name": "stdout",
     "output_type": "stream",
     "text": [
      "10\n"
     ]
    }
   ],
   "source": [
    "name = \"hans singh\"\n",
    "x = len(name)\n",
    "print(x)"
   ]
  },
  {
   "cell_type": "markdown",
   "metadata": {},
   "source": [
    "<h3>String concatenation</h3>"
   ]
  },
  {
   "cell_type": "code",
   "execution_count": 6,
   "metadata": {},
   "outputs": [
    {
     "name": "stdout",
     "output_type": "stream",
     "text": [
      "hans 200\n"
     ]
    }
   ],
   "source": [
    "name = \"hans\"\n",
    "one = 10\n",
    "two = 20\n",
    "new = f\"{name} {one*two}\"\n",
    "print(new)"
   ]
  },
  {
   "cell_type": "code",
   "execution_count": null,
   "metadata": {},
   "outputs": [],
   "source": []
  },
  {
   "cell_type": "markdown",
   "metadata": {},
   "source": [
    "<h3>Escape character</h3>\n",
    "<p>Single quote, Backlash, New Line, Backspace, Tab</p>"
   ]
  },
  {
   "cell_type": "code",
   "execution_count": 7,
   "metadata": {},
   "outputs": [
    {
     "name": "stdout",
     "output_type": "stream",
     "text": [
      "hans\tsingh\n"
     ]
    }
   ],
   "source": [
    "print('hans\\tsingh')"
   ]
  },
  {
   "cell_type": "markdown",
   "metadata": {},
   "source": [
    "<h1>List</h1>\n",
    "<p>Lists are used to store multiple items in a single variable.</p>\n",
    "<p>List items are ordered, mutable, and allow duplicate values.</p>"
   ]
  },
  {
   "cell_type": "code",
   "execution_count": 8,
   "metadata": {},
   "outputs": [
    {
     "name": "stdout",
     "output_type": "stream",
     "text": [
      "[1, 2, 3, 4, 5, 5, 5, 6]\n"
     ]
    }
   ],
   "source": [
    "number = [1,2,3,4,5,5,5,6]\n",
    "print(number)"
   ]
  },
  {
   "cell_type": "markdown",
   "metadata": {},
   "source": [
    "<h3>List Indexing</h3>"
   ]
  },
  {
   "cell_type": "code",
   "execution_count": 9,
   "metadata": {},
   "outputs": [
    {
     "name": "stdout",
     "output_type": "stream",
     "text": [
      "[1, 3, 5, 5]\n"
     ]
    }
   ],
   "source": [
    "print(number[::2])"
   ]
  },
  {
   "cell_type": "markdown",
   "metadata": {},
   "source": [
    "<h3>Python Built-in List Methods</h3>\n",
    "\n",
    "<p>Python has a number of built-in methods that can be used to manipulate lists. Here are some of the most commonly used methods:</p>\n",
    "\n",
    "<ul>\n",
    "<li>append() - Adds an element to the end of the list.</li>\n",
    "<li>extend() - Adds multiple elements to the end of the list.</li>\n",
    "<li>insert() - Inserts an element at a specified position in the list.</li>\n",
    "<li>remove() - Removes the first occurrence of an element in the list.</li>\n",
    "<li>pop() - Removes and returns an element at a specified position in the list.</li>\n",
    "<li>index() - Returns the index of the first occurrence of an element in the list.</li>\n",
    "<li>count() - Returns the number of occurrences of an element in the list.</li>\n",
    "<li>sort() - Sorts the elements of the list in ascending order.</li>\n",
    "<li>reverse() - Reverses the order of the elements in the list.</li>\n",
    "<li>clear() - Removes all elements from the list.</li>\n",
    "<li>copy() - Returns a copy of the list.</li>\n",
    "</ul>\n",
    "\n"
   ]
  },
  {
   "cell_type": "code",
   "execution_count": 10,
   "metadata": {},
   "outputs": [
    {
     "name": "stdout",
     "output_type": "stream",
     "text": [
      "31\n"
     ]
    }
   ],
   "source": [
    "number = [1,2,3,6,7,3,4,5]\n",
    "x = sum(number)\n",
    "print(x)"
   ]
  },
  {
   "cell_type": "markdown",
   "metadata": {},
   "source": [
    "<h2>List Comprehension</h2>\n",
    "<h3>The Syntax</h3>\n",
    "<p></p>newlist = [expression for item in iterable if condition == True]</p>"
   ]
  },
  {
   "cell_type": "code",
   "execution_count": 11,
   "metadata": {},
   "outputs": [
    {
     "name": "stdout",
     "output_type": "stream",
     "text": [
      "[1, 3]\n"
     ]
    }
   ],
   "source": [
    "new = [1,2,3,4]\n",
    "now = [i for i in new if i%2 != 0]\n",
    "print(now)"
   ]
  },
  {
   "cell_type": "markdown",
   "metadata": {},
   "source": [
    "<h1>Tuple</h1>\n",
    "<p>Tuple items are ordered, immutable, and allow duplicate values.</p>"
   ]
  },
  {
   "cell_type": "code",
   "execution_count": 12,
   "metadata": {},
   "outputs": [
    {
     "data": {
      "text/plain": [
       "tuple"
      ]
     },
     "execution_count": 12,
     "metadata": {},
     "output_type": "execute_result"
    }
   ],
   "source": [
    "tup = (1,)\n",
    "type(tup)"
   ]
  },
  {
   "cell_type": "markdown",
   "metadata": {},
   "source": [
    "<h3>Tuple indexing</h3>"
   ]
  },
  {
   "cell_type": "code",
   "execution_count": 13,
   "metadata": {},
   "outputs": [
    {
     "name": "stdout",
     "output_type": "stream",
     "text": [
      "(1, 2, 3)\n"
     ]
    }
   ],
   "source": [
    "tup = (1,2,3,4,5)\n",
    "print(tup[0:3])"
   ]
  },
  {
   "cell_type": "markdown",
   "metadata": {},
   "source": [
    "<h3>Python Built-in Tuple Methods</h3>\n",
    "\n",
    "<p>Python has a number of built-in methods that can be used to manipulate tuples. Here are some of the most commonly used methods:</p>\n",
    "\n",
    "<ul>\n",
    "<li>index() - Returns the index of the first occurrence of an element in the tuple.</li>\n",
    "<li>count() - Returns the number of occurrences of an element in the tuple.</li>\n",
    "</ul>\n"
   ]
  },
  {
   "cell_type": "code",
   "execution_count": 14,
   "metadata": {},
   "outputs": [
    {
     "name": "stdout",
     "output_type": "stream",
     "text": [
      "(1, 2, 3, 4)\n"
     ]
    }
   ],
   "source": [
    "fun =(1,2,3)\n",
    "my_list = list(fun)\n",
    "my_list.append(4)\n",
    "print(tuple(my_list))\n"
   ]
  },
  {
   "cell_type": "markdown",
   "metadata": {},
   "source": [
    "<h3>Tuple Unpacking </h3>"
   ]
  },
  {
   "cell_type": "code",
   "execution_count": 15,
   "metadata": {},
   "outputs": [
    {
     "name": "stdout",
     "output_type": "stream",
     "text": [
      "apple\n",
      "banana\n",
      "cherry\n"
     ]
    }
   ],
   "source": [
    "fruits = (\"apple\", \"banana\", \"cherry\")\n",
    "(green, yellow, red) = fruits\n",
    "print(green)\n",
    "print(yellow)\n",
    "print(red)"
   ]
  },
  {
   "cell_type": "markdown",
   "metadata": {},
   "source": [
    "\n",
    "<h3>HomeWork Question</h3>\n",
    "\n",
    "<p>Create a list called <code>student_scores</code> that contains the scores of 5 students in a class. The scores are:</p>\n",
    "\n",
    "<ul>\n",
    "<li>Student 1: 85</li>\n",
    "<li>Student 2: 92</li>\n",
    "<li>Student 3: 78</li>\n",
    "<li>Student 4: 95</li>\n",
    "<li>Student 5: 88</li>\n",
    "</ul>\n",
    "\n",
    "<p>Write a Python program that:</p>\n",
    "\n",
    "<ol>\n",
    "<li>Prints the original list of scores</li>\n",
    "<li>Sorts the list in ascending order and prints the sorted list</li>\n",
    "<li>Finds the highest score and prints it</li>\n",
    "<li>Finds the lowest score and prints it</li>\n",
    "<li>Calculates the average score and prints it</li>\n",
    "</ol>\n"
   ]
  }
 ],
 "metadata": {
  "kernelspec": {
   "display_name": "Python 3",
   "language": "python",
   "name": "python3"
  },
  "language_info": {
   "codemirror_mode": {
    "name": "ipython",
    "version": 3
   },
   "file_extension": ".py",
   "mimetype": "text/x-python",
   "name": "python",
   "nbconvert_exporter": "python",
   "pygments_lexer": "ipython3",
   "version": "3.12.2"
  }
 },
 "nbformat": 4,
 "nbformat_minor": 2
}
