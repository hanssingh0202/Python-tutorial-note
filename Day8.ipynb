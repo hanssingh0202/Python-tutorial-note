{
 "cells": [
  {
   "cell_type": "markdown",
   "metadata": {},
   "source": [
    "<h1>Pandas</h1>"
   ]
  },
  {
   "cell_type": "code",
   "execution_count": 5,
   "metadata": {},
   "outputs": [],
   "source": [
    "import pandas as p"
   ]
  },
  {
   "cell_type": "markdown",
   "metadata": {},
   "source": [
    "<h3>Pandas Series</h3>"
   ]
  },
  {
   "cell_type": "code",
   "execution_count": 6,
   "metadata": {},
   "outputs": [],
   "source": [
    "a = (1,2,3,4,5)\n",
    "df = pd.Series(a)"
   ]
  },
  {
   "cell_type": "code",
   "execution_count": 8,
   "metadata": {},
   "outputs": [
    {
     "name": "stdout",
     "output_type": "stream",
     "text": [
      "0    1\n",
      "1    2\n",
      "2    3\n",
      "3    4\n",
      "4    5\n",
      "dtype: int64\n"
     ]
    }
   ],
   "source": [
    "print(df)"
   ]
  },
  {
   "cell_type": "markdown",
   "metadata": {},
   "source": [
    "<h3>Create Labels\n",
    "</h3>"
   ]
  },
  {
   "cell_type": "code",
   "execution_count": 9,
   "metadata": {},
   "outputs": [],
   "source": [
    "a = (1,2,3,4,5)\n",
    "df = pd.Series(a,index=(\"a\",\"b\",\"c\",\"d\",\"e\"))"
   ]
  },
  {
   "cell_type": "code",
   "execution_count": 12,
   "metadata": {},
   "outputs": [
    {
     "name": "stdout",
     "output_type": "stream",
     "text": [
      "2\n"
     ]
    }
   ],
   "source": [
    "print(df[\"b\"])"
   ]
  },
  {
   "cell_type": "markdown",
   "metadata": {},
   "source": [
    "<h3>Key/Value Objects as Series\n",
    "</h3>"
   ]
  },
  {
   "cell_type": "code",
   "execution_count": 13,
   "metadata": {},
   "outputs": [
    {
     "name": "stdout",
     "output_type": "stream",
     "text": [
      "name    hans\n",
      "age       24\n",
      "dtype: object\n"
     ]
    }
   ],
   "source": [
    "a = {\"name\":\"hans\",\"age\":24}\n",
    "df = pd.Series(a)\n",
    "print(df)"
   ]
  },
  {
   "cell_type": "markdown",
   "metadata": {},
   "source": [
    "<h3>DataFrames</h3>\n",
    "<p>A Pandas DataFrame is a 2 dimensional data structure, like a 2 dimensional array, or a table with rows and columns.</p>"
   ]
  },
  {
   "cell_type": "code",
   "execution_count": 44,
   "metadata": {},
   "outputs": [
    {
     "name": "stdout",
     "output_type": "stream",
     "text": [
      "    name   age\n",
      "1   hans  15.0\n",
      "2   ravi   NaN\n",
      "3  rohit  17.0\n"
     ]
    }
   ],
   "source": [
    "new = {\"name\":[\"hans\",\"ravi\",\"rohit\"],\n",
    "       \"age\":[15,None,17]}\n",
    "df = pd.DataFrame(new,index=(1,2,3))\n",
    "print(df)"
   ]
  },
  {
   "cell_type": "code",
   "execution_count": 45,
   "metadata": {},
   "outputs": [
    {
     "name": "stdout",
     "output_type": "stream",
     "text": [
      "    name   age  subject\n",
      "1   hans  15.0      1.0\n",
      "2   ravi   NaN      2.0\n",
      "3  rohit  17.0      NaN\n"
     ]
    }
   ],
   "source": [
    "df[\"subject\"] = [1,2,None]\n",
    "print(df)"
   ]
  },
  {
   "cell_type": "code",
   "execution_count": 48,
   "metadata": {},
   "outputs": [
    {
     "name": "stdout",
     "output_type": "stream",
     "text": [
      "    name   age subject\n",
      "1   hans  15.0     1.0\n",
      "2   ravi     5     2.0\n",
      "3  rohit  17.0       5\n"
     ]
    }
   ],
   "source": [
    "df.fillna(5,axis=1,inplace=True)\n",
    "print(df)"
   ]
  },
  {
   "cell_type": "code",
   "execution_count": 43,
   "metadata": {},
   "outputs": [
    {
     "name": "stdout",
     "output_type": "stream",
     "text": [
      "    name\n",
      "1   hans\n",
      "2   ravi\n",
      "3  rohit\n"
     ]
    }
   ],
   "source": [
    "df.dropna(inplace=True,axis=1)\n",
    "print(df)"
   ]
  },
  {
   "cell_type": "code",
   "execution_count": 36,
   "metadata": {},
   "outputs": [
    {
     "data": {
      "text/html": [
       "<div>\n",
       "<style scoped>\n",
       "    .dataframe tbody tr th:only-of-type {\n",
       "        vertical-align: middle;\n",
       "    }\n",
       "\n",
       "    .dataframe tbody tr th {\n",
       "        vertical-align: top;\n",
       "    }\n",
       "\n",
       "    .dataframe thead th {\n",
       "        text-align: right;\n",
       "    }\n",
       "</style>\n",
       "<table border=\"1\" class=\"dataframe\">\n",
       "  <thead>\n",
       "    <tr style=\"text-align: right;\">\n",
       "      <th></th>\n",
       "      <th>name</th>\n",
       "      <th>subject</th>\n",
       "    </tr>\n",
       "  </thead>\n",
       "  <tbody>\n",
       "    <tr>\n",
       "      <th>1</th>\n",
       "      <td>hans</td>\n",
       "      <td>math</td>\n",
       "    </tr>\n",
       "    <tr>\n",
       "      <th>2</th>\n",
       "      <td>ravi</td>\n",
       "      <td>math</td>\n",
       "    </tr>\n",
       "    <tr>\n",
       "      <th>3</th>\n",
       "      <td>rohit</td>\n",
       "      <td>english</td>\n",
       "    </tr>\n",
       "  </tbody>\n",
       "</table>\n",
       "</div>"
      ],
      "text/plain": [
       "    name  subject\n",
       "1   hans     math\n",
       "2   ravi     math\n",
       "3  rohit  english"
      ]
     },
     "execution_count": 36,
     "metadata": {},
     "output_type": "execute_result"
    }
   ],
   "source": [
    "df.drop(columns=(\"age\"))"
   ]
  },
  {
   "cell_type": "code",
   "execution_count": 32,
   "metadata": {},
   "outputs": [
    {
     "name": "stdout",
     "output_type": "stream",
     "text": [
      "    name   age  subject\n",
      "1   hans  15.0     math\n",
      "3  rohit  17.0  english\n",
      "   index   name   age  subject\n",
      "0      1   hans  15.0     math\n",
      "1      3  rohit  17.0  english\n"
     ]
    }
   ],
   "source": [
    "df.dropna(inplace=True)\n",
    "print(df)\n",
    "df.reset_index(inplace=True)\n",
    "print(df)\n"
   ]
  },
  {
   "cell_type": "code",
   "execution_count": 27,
   "metadata": {},
   "outputs": [
    {
     "name": "stdout",
     "output_type": "stream",
     "text": [
      "<class 'pandas.core.frame.DataFrame'>\n",
      "Index: 3 entries, 1 to 3\n",
      "Data columns (total 3 columns):\n",
      " #   Column   Non-Null Count  Dtype  \n",
      "---  ------   --------------  -----  \n",
      " 0   name     3 non-null      object \n",
      " 1   age      2 non-null      float64\n",
      " 2   subject  3 non-null      object \n",
      "dtypes: float64(1), object(2)\n",
      "memory usage: 96.0+ bytes\n",
      "None\n"
     ]
    }
   ],
   "source": [
    "print(df.info())"
   ]
  },
  {
   "cell_type": "code",
   "execution_count": null,
   "metadata": {},
   "outputs": [],
   "source": []
  },
  {
   "cell_type": "markdown",
   "metadata": {},
   "source": [
    "<h3>Load Files Into a DataFrame\n",
    "</h3>"
   ]
  },
  {
   "cell_type": "code",
   "execution_count": 77,
   "metadata": {},
   "outputs": [],
   "source": [
    "df = pd.read_csv(\"Reliance_1MinData.csv\")"
   ]
  },
  {
   "cell_type": "code",
   "execution_count": 59,
   "metadata": {},
   "outputs": [
    {
     "name": "stdout",
     "output_type": "stream",
     "text": [
      "(91908, 7)\n",
      "                datetime     open     high      low    close  volume    symbol\n",
      "200  2023-01-02 12:35:00  2563.85  2564.90  2563.80  2564.90    3136  RELIANCE\n",
      "201  2023-01-02 12:36:00  2564.35  2565.40  2564.05  2564.95    2892  RELIANCE\n",
      "202  2023-01-02 12:37:00  2564.05  2564.75  2564.00  2564.00    2274  RELIANCE\n",
      "203  2023-01-02 12:38:00  2564.00  2564.50  2563.75  2564.50    3929  RELIANCE\n",
      "204  2023-01-02 12:39:00  2564.00  2564.60  2563.60  2564.00    3169  RELIANCE\n",
      "..                   ...      ...      ...      ...      ...     ...       ...\n",
      "495  2023-01-03 11:15:00  2567.45  2567.90  2567.20  2567.90    4804  RELIANCE\n",
      "496  2023-01-03 11:16:00  2567.90  2567.90  2567.20  2567.75    3916  RELIANCE\n",
      "497  2023-01-03 11:17:00  2567.75  2569.00  2567.65  2568.10    4373  RELIANCE\n",
      "498  2023-01-03 11:18:00  2568.10  2568.10  2567.15  2567.30    3348  RELIANCE\n",
      "499  2023-01-03 11:19:00  2567.30  2567.60  2566.90  2567.05    3262  RELIANCE\n",
      "\n",
      "[300 rows x 7 columns]\n"
     ]
    }
   ],
   "source": [
    "print(df.shape)\n",
    "print(df.iloc[200:500])"
   ]
  },
  {
   "cell_type": "code",
   "execution_count": 80,
   "metadata": {},
   "outputs": [],
   "source": [
    "df[\"datetime\"] = pd.to_datetime(df.datetime)\n",
    "df.set_index(\"datetime\",inplace=True)"
   ]
  },
  {
   "cell_type": "code",
   "execution_count": 91,
   "metadata": {},
   "outputs": [],
   "source": [
    "df_5 = df.resample(\"5min\").agg({\n",
    "    \"open\":\"first\",\n",
    "    \"high\":\"max\",\n",
    "    \"low\":\"min\",\n",
    "    \"close\":\"last\",\n",
    "    \"volume\":\"sum\"\n",
    "    \n",
    "})"
   ]
  },
  {
   "cell_type": "code",
   "execution_count": 92,
   "metadata": {},
   "outputs": [
    {
     "name": "stdout",
     "output_type": "stream",
     "text": [
      "                        open     high      low    close  volume\n",
      "datetime                                                       \n",
      "2023-01-02 09:15:00  2550.00  2556.40  2548.20  2549.80  122343\n",
      "2023-01-02 09:20:00  2549.80  2561.65  2549.45  2560.05   61621\n",
      "2023-01-02 09:25:00  2560.35  2562.95  2553.30  2555.00   57525\n",
      "2023-01-02 09:30:00  2554.80  2562.00  2554.00  2560.95   45656\n",
      "2023-01-02 09:35:00  2560.00  2565.90  2558.40  2565.40   51269\n"
     ]
    }
   ],
   "source": [
    "print(df_5.head())"
   ]
  },
  {
   "cell_type": "markdown",
   "metadata": {},
   "source": [
    "\n",
    "<h2>Bollinger Bands Formula</h2>\n",
    "\n",
    "\n",
    "<p>\n",
    "Moving Average (MA): <code>(Sum of (Price values over N periods)) / N</code>\n",
    "\n",
    "Standard Deviation (SD): <code>√(Sum of ((Price values - MA)^2) / N)</code>\n",
    "\n",
    "\n",
    "\n",
    "Upper Bollinger Band (UBB): <code>MA + (2 x SD)</code>\n",
    "\n",
    "Lower Bollinger Band (LBB): <code>MA - (2 x SD)</code>\n",
    "\n",
    "Middle Bollinger Band (MBB): <code>MA</code>\n",
    "</p>\n",
    "\n",
    "\n",
    "\n"
   ]
  },
  {
   "cell_type": "code",
   "execution_count": 104,
   "metadata": {},
   "outputs": [],
   "source": [
    "df_5[\"MA\"] = df_5.close.rolling(20).mean()\n",
    "std = df_5.MA.rolling(20).std()\n",
    "df_5[\"UBB\"] = df_5.MA +(2*std)\n",
    "df_5[\"LBB\"] = df_5.MA -(2*std)"
   ]
  },
  {
   "cell_type": "code",
   "execution_count": 105,
   "metadata": {},
   "outputs": [
    {
     "name": "stdout",
     "output_type": "stream",
     "text": [
      "                        open     high      low    close  volume         MA  \\\n",
      "datetime                                                                     \n",
      "2023-12-29 15:05:00  2583.65  2587.80  2582.65  2585.95  228013  2586.5325   \n",
      "2023-12-29 15:10:00  2585.30  2586.65  2580.95  2582.70  289409  2586.1925   \n",
      "2023-12-29 15:15:00  2582.20  2584.60  2581.60  2582.95  135749  2585.9400   \n",
      "2023-12-29 15:20:00  2582.95  2585.00  2580.85  2584.00  173548  2585.7400   \n",
      "2023-12-29 15:25:00  2584.00  2589.00  2584.00  2587.00  425594  2585.7400   \n",
      "\n",
      "                             UBB          LBB  \n",
      "datetime                                       \n",
      "2023-12-29 15:05:00  2590.806459  2582.258541  \n",
      "2023-12-29 15:10:00  2590.351882  2582.033118  \n",
      "2023-12-29 15:15:00  2589.970189  2581.909811  \n",
      "2023-12-29 15:20:00  2589.629395  2581.850605  \n",
      "2023-12-29 15:25:00  2589.456777  2582.023223  \n"
     ]
    }
   ],
   "source": [
    "print(df_5.tail())"
   ]
  },
  {
   "cell_type": "markdown",
   "metadata": {},
   "source": [
    "\n",
    "<h2>MACD Formula</h2>\n",
    "\n",
    "\n",
    "<p>\n",
    "MACD Line: <code>EMA12 - EMA26</code>\n",
    "\n",
    "Signal Line: <code>EMA9 of MACD Line</code>\n",
    "\n",
    "Histogram: <code>MACD Line - Signal Line</code>\n",
    "\n",
    "\n",
    "\n",
    "EMA12: <code>Exponential Moving Average over 12 periods</code>\n",
    "\n",
    "EMA26: <code>Exponential Moving Average over 26 periods</code>\n",
    "\n",
    "EMA9: <code>Exponential Moving Average over 9 periods</code>\n",
    "</p>"
   ]
  },
  {
   "cell_type": "code",
   "execution_count": 114,
   "metadata": {},
   "outputs": [],
   "source": [
    "ema12 = df_5.close.ewm(12).mean()\n",
    "ema26 = df_5.close.ewm(26).mean()\n",
    "\n",
    "df_5[\"MACD\"] = ema12 - ema26\n",
    "df_5[\"Signal\"] = df_5.MACD.ewm(9).mean()\n",
    "df_5[\"Histo\"] = df_5.MACD - df_5.Signal"
   ]
  },
  {
   "cell_type": "code",
   "execution_count": 115,
   "metadata": {},
   "outputs": [
    {
     "name": "stdout",
     "output_type": "stream",
     "text": [
      "                        open     high      low    close  volume         MA  \\\n",
      "datetime                                                                     \n",
      "2023-01-02 09:15:00  2550.00  2556.40  2548.20  2549.80  122343        NaN   \n",
      "2023-01-02 09:20:00  2549.80  2561.65  2549.45  2560.05   61621        NaN   \n",
      "2023-01-02 09:25:00  2560.35  2562.95  2553.30  2555.00   57525        NaN   \n",
      "2023-01-02 09:30:00  2554.80  2562.00  2554.00  2560.95   45656        NaN   \n",
      "2023-01-02 09:35:00  2560.00  2565.90  2558.40  2565.40   51269        NaN   \n",
      "...                      ...      ...      ...      ...     ...        ...   \n",
      "2023-12-29 15:05:00  2583.65  2587.80  2582.65  2585.95  228013  2586.5325   \n",
      "2023-12-29 15:10:00  2585.30  2586.65  2580.95  2582.70  289409  2586.1925   \n",
      "2023-12-29 15:15:00  2582.20  2584.60  2581.60  2582.95  135749  2585.9400   \n",
      "2023-12-29 15:20:00  2582.95  2585.00  2580.85  2584.00  173548  2585.7400   \n",
      "2023-12-29 15:25:00  2584.00  2589.00  2584.00  2587.00  425594  2585.7400   \n",
      "\n",
      "                             UBB          LBB      MACD    Signal     Histo  \n",
      "datetime                                                                     \n",
      "2023-01-02 09:15:00          NaN          NaN  0.000000  0.000000  0.000000  \n",
      "2023-01-02 09:20:00          NaN          NaN  0.108302  0.057001  0.051301  \n",
      "2023-01-02 09:25:00          NaN          NaN  0.068965  0.061416  0.007549  \n",
      "2023-01-02 09:30:00          NaN          NaN  0.147194  0.086358  0.060835  \n",
      "2023-01-02 09:35:00          NaN          NaN  0.270260  0.131266  0.138994  \n",
      "...                          ...          ...       ...       ...       ...  \n",
      "2023-12-29 15:05:00  2590.806459  2582.258541 -1.284395 -0.718714 -0.565680  \n",
      "2023-12-29 15:10:00  2590.351882  2582.033118 -1.416694 -0.788512 -0.628182  \n",
      "2023-12-29 15:15:00  2589.970189  2581.909811 -1.520739 -0.861735 -0.659004  \n",
      "2023-12-29 15:20:00  2589.629395  2581.850605 -1.569231 -0.932485 -0.636747  \n",
      "2023-12-29 15:25:00  2589.456777  2582.023223 -1.494535 -0.988690 -0.505845  \n",
      "\n",
      "[104043 rows x 11 columns]\n"
     ]
    }
   ],
   "source": [
    "print(df_5)"
   ]
  },
  {
   "cell_type": "markdown",
   "metadata": {},
   "source": [
    "\n",
    "<h1>Pandas Functions and Methods</h1>\n",
    "\t\n",
    "<h2>Data Manipulation</h2>\n",
    "\t<table>\n",
    "\t\t<tr>\n",
    "\t\t\t<th>Function</th>\n",
    "\t\t\t<th>Description</th>\n",
    "\t\t</tr>\n",
    "\t\t<tr>\n",
    "\t\t\t<td><code>concat()</code></td>\n",
    "\t\t\t<td>Concatenate DataFrames</td>\n",
    "\t\t</tr>\n",
    "\t\t<tr>\n",
    "\t\t\t<td><code>merge()</code></td>\n",
    "\t\t\t<td>Merge DataFrames</td>\n",
    "\t\t</tr>\n",
    "\t\t<tr>\n",
    "\t\t\t<td><code>join()</code></td>\n",
    "\t\t\t<td>Join DataFrames</td>\n",
    "\t\t</tr>\n",
    "\t\t<tr>\n",
    "\t\t\t<td><code>groupby()</code></td>\n",
    "\t\t\t<td>Group data by columns</td>\n",
    "\t\t</tr>\n",
    "\t\t<tr>\n",
    "\t\t\t<td><code>pivot_table()</code></td>\n",
    "\t\t\t<td>Create pivot tables</td>\n",
    "\t\t</tr>\n",
    "\t\t<tr>\n",
    "\t\t\t<td><code>melt()</code></td>\n",
    "\t\t\t<td>Unpivot data</td>\n",
    "\t\t</tr>\n",
    "\t\t<tr>\n",
    "\t\t\t<td><code>stack()</code></td>\n",
    "\t\t\t<td>Stack data</td>\n",
    "\t\t</tr>\n",
    "\t\t<tr>\n",
    "\t\t\t<td><code>unstack()</code></td>\n",
    "\t\t\t<td>Unstack data</td>\n",
    "\t\t</tr>\n",
    "\t\t<tr>\n",
    "\t\t\t<td><code>sort_values()</code></td>\n",
    "\t\t\t<td>Sort data</td>\n",
    "\t\t</tr>\n",
    "\t\t<tr>\n",
    "\t\t\t<td><code>sort_index()</code></td>\n",
    "\t\t\t<td>Sort index</td>\n",
    "\t\t</tr>\n",
    "\t\t<tr>\n",
    "\t\t\t<td><code>reset_index()</code></td>\n",
    "\t\t\t<td>Reset index</td>\n",
    "\t\t</tr>\n",
    "\t\t<tr>\n",
    "\t\t\t<td><code>set_index()</code></td>\n",
    "\t\t\t<td>Set index</td>\n",
    "\t\t</tr>\n",
    "\t\t<tr>\n",
    "\t\t\t<td><code>rename()</code></td>\n",
    "\t\t\t<td>Rename columns</td>\n",
    "\t\t</tr>\n",
    "\t\t<tr>\n",
    "\t\t\t<td><code>drop()</code></td>\n",
    "\t\t\t<td>Drop rows or columns</td>\n",
    "\t\t</tr>\n",
    "\t\t<tr>\n",
    "\t\t\t<td><code>drop_duplicates()</code></td>\n",
    "\t\t\t<td>Drop duplicate rows</td>\n",
    "\t\t</tr>\n",
    "\t</table>\n",
    "\t\n",
    "<h2>Data Analysis</h2>\n",
    "\t<table>\n",
    "\t\t<tr>\n",
    "\t\t\t<th>Function</th>\n",
    "\t\t\t<th>Description</th>\n",
    "\t\t</tr>\n",
    "\t\t<tr>\n",
    "\t\t\t<td><code>mean()</code></td>\n",
    "\t\t\t<td>Calculate mean</td>\n",
    "\t\t</tr>\n",
    "\t\t<tr>\n",
    "\t\t\t<td><code>median()</code></td>\n",
    "\t\t\t<td>Calculate median</td>\n",
    "\t\t</tr>\n",
    "\t\t<tr>\n",
    "\t\t\t<td><code>mode()</code></td>\n",
    "\t\t\t<td>Calculate mode</td>\n",
    "\t\t</tr>\n",
    "\t\t<tr>\n",
    "\t\t\t<td><code>std()</code></td>\n",
    "\t\t\t<td>Calculate standard deviation</td>\n",
    "\t\t</tr>\n",
    "\t\t<tr>\n",
    "\t\t\t<td><code>var()</code></td>\n",
    "\t\t\t<td>Calculate variance</td>\n",
    "\t\t</tr>\n",
    "\t\t<tr>\n",
    "\t\t\t<td><code>min()</code></td>\n",
    "\t\t\t<td>Find minimum value</td>\n",
    "\t\t</tr>\n",
    "\t\t<tr>\n",
    "\t\t\t<td><code>max()</code></td>\n",
    "\t\t\t<td>Find maximum value</td>\n",
    "\t\t</tr>\n",
    "\t\t<tr>\n",
    "\t\t\t<td><code>sum()</code></td>\n",
    "\t\t\t<td>Calculate sum</td>\n",
    "\t\t</tr>\n",
    "\t\t<tr>\n",
    "\t\t\t<td><code>prod()</code></td>\n",
    "\t\t\t<td>Calculate product</td>\n",
    "\t\t</tr>\n",
    "\t\t<tr>\n",
    "\t\t\t<td><code>corr()</code></td>\n",
    "\t\t\t<td>Calculate correlation</td>\n",
    "\t\t</tr>\n",
    "\t\t<tr>\n",
    "\t\t\t<td><code>cov()</code></td>\n",
    "\t\t\t<td>Calculate covariance</td>\n",
    "\t\t</tr>\n",
    "\t\t<tr>\n",
    "\t\t\t<td><code>describe()</code></td>\n",
    "\t\t\t<td>Summary statistics</td>\n",
    "\t\t</tr>\n",
    "\t</table>\n",
    "\n",
    "\n",
    "\n",
    "\n",
    "<h2>Data Cleaning</h2>\n",
    "\t<table>\n",
    "\t\t<tr>\n",
    "\t\t\t<th>Function</th>\n",
    "\t\t\t<th>Description</th>\n",
    "\t\t</tr>\n",
    "\t\t<tr>\n",
    "\t\t\t<td><code>fillna()</code></td>\n",
    "\t\t\t<td>Fill missing values</td>\n",
    "\t\t</tr>\n",
    "\t\t<tr>\n",
    "\t\t\t<td><code>dropna()</code></td>\n",
    "\t\t\t<td>Drop missing values</td>\n",
    "\t\t</tr>\n",
    "\t\t<tr>\n",
    "\t\t\t<td><code>replace()</code></td>\n",
    "\t\t\t<td>Replace values</td>\n",
    "\t\t</tr>\n",
    "\t\t<tr>\n",
    "\t\t\t<td><code>astype()</code></td>\n",
    "\t\t\t<td>Convert data types</td>\n",
    "\t\t</tr>\n",
    "\t\t<tr>\n",
    "\t\t\t<td><code>to_numeric()</code></td>\n",
    "\t\t\t<td>Convert to numeric</td>\n",
    "\t\t</tr>\n",
    "\t\t<tr>\n",
    "\t\t\t<td><code>to_datetime()</code></td>\n",
    "\t\t\t<td>Convert to datetime</td>\n",
    "\t\t</tr>\n",
    "\t\t<tr>\n",
    "\t\t\t<td><code>to_timedelta()</code></td>\n",
    "\t\t\t<td>Convert to timedelta</td>\n",
    "\t\t</tr>\n",
    "\t</table>\n",
    "\t\n",
    "<h2>Data Input/Output</h2>\n",
    "\t<table>\n",
    "\t\t<tr>\n",
    "\t\t\t<th>Function</th>\n",
    "\t\t\t<th>Description</th>\n",
    "\t\t</tr>\n",
    "\t\t<tr>\n",
    "\t\t\t<td><code>read_csv()</code></td>\n",
    "\t\t\t<td>Read CSV file</td>\n",
    "\t\t</tr>\n",
    "\t\t<tr>\n",
    "\t\t\t<td><code>read_excel()</code></td>\n",
    "\t\t\t<td>Read Excel file</td>\n",
    "\t\t</tr>\n",
    "\t\t<tr>\n",
    "\t\t\t<td><code>read_json()</code></td>\n",
    "\t\t\t<td>Read JSON file</td>\n",
    "\t\t</tr>\n",
    "\t\t<tr>\n",
    "\t\t\t<td><code>read_html()</code></td>\n",
    "\t\t\t<td>Read HTML file</td>\n",
    "\t\t</tr>\n",
    "\t\t<tr>\n",
    "\t\t\t<td><code>to_csv()</code></td>\n",
    "\t\t\t<td>Write CSV file</td>\n",
    "\t\t</tr>\n",
    "\t\t<tr>\n",
    "\t\t\t<td><code>to_excel()</code></td>\n",
    "\t\t\t<td>Write Excel file</td>\n",
    "\t\t</tr>\n",
    "\t\t<tr>\n",
    "\t\t\t<td><code>to_json()</code></td>\n",
    "\t\t\t<td>Write JSON file</td>\n",
    "\t\t</tr>\n",
    "\t\t<tr>\n",
    "\t\t\t<td><code>to_html()</code></td>\n",
    "\t\t\t<td>Write HTML file</td>\n",
    "\t\t</tr>\n",
    "\t</table>\n",
    "\t\n",
    "<h2>Time Series</h2>\n",
    "\t<table>\n",
    "\t\t<tr>\n",
    "\t\t\t<th>Function</th>\n",
    "\t\t\t<th>Description</th>\n",
    "\t\t</tr>\n",
    "\t\t<tr>\n",
    "\t\t\t<td><code>resample()</code></td>\n",
    "\t\t\t<td>Resample data</td>\n",
    "\t\t</tr>\n",
    "\t\t<tr>\n",
    "\t\t\t<td><code>rolling()</code></td>\n",
    "\t\t\t<td>Rolling window calculations</td>\n",
    "\t\t</tr>\n",
    "\t\t<tr>\n",
    "\t\t\t<td><code>ewm()</code></td>\n",
    "\t\t\t<td>Exponential weighted moving averages</td>\n",
    "\t\t</tr>\n",
    "\t\t<tr>\n",
    "\t\t\t<td><code>shift()</code></td>\n",
    "\t\t\t<td>Shift data</td>\n",
    "\t\t</tr>\n",
    "\t\t<tr>\n",
    "\t\t\t<td><code>diff()</code></td>\n",
    "\t\t\t<td>Calculate differences</td>\n",
    "\t\t</tr>\n",
    "\t</table>\n",
    "\t\n",
    "<h2>Categorical</h2>\n",
    "\t<table>\n",
    "\t\t<tr>\n",
    "\t\t\t<th>Function</th>\n",
    "\t\t\t<th>Description</th>\n",
    "\t\t</tr>\n",
    "\t\t<tr>\n",
    "\t\t\t<td><code>astype('category')</code></td>\n",
    "\t\t\t<td>Convert to categorical</td>\n",
    "\t\t</tr>\n",
    "\t\t<tr>\n",
    "\t\t\t<td><code>cat.categories</code></td>\n",
    "\t\t\t<td>Get categories</td>\n",
    "\t\t</tr>\n",
    "\t\t<tr>\n",
    "\t\t\t<td><code>cat.codes</code></td>\n",
    "\t\t\t<td>Get category codes</td>\n",
    "\t\t</tr>\n",
    "\t</table>\n",
    "\t\n",
    "<h2>Indexing/Selecting</h2>\n",
    "\t<table>\n",
    "\t\t<tr>\n",
    "\t\t\t<th>Function</th>\n",
    "\t\t\t<th>Description</th>\n",
    "\t\t</tr>\n",
    "\t\t<tr>\n",
    "\t\t\t<td><code>loc[]</code></td>\n",
    "\t\t\t<td>Label-based indexing</td>\n",
    "\t\t</tr>\n",
    "\t\t<tr>\n",
    "\t\t\t<td><code>iloc[]</code></td>\n",
    "\t\t\t<td>Integer-based indexing</td>\n",
    "\t\t</tr>\n",
    "\t\t<tr>\n",
    "\n"
   ]
  }
 ],
 "metadata": {
  "kernelspec": {
   "display_name": "Python 3",
   "language": "python",
   "name": "python3"
  },
  "language_info": {
   "codemirror_mode": {
    "name": "ipython",
    "version": 3
   },
   "file_extension": ".py",
   "mimetype": "text/x-python",
   "name": "python",
   "nbconvert_exporter": "python",
   "pygments_lexer": "ipython3",
   "version": "3.12.2"
  }
 },
 "nbformat": 4,
 "nbformat_minor": 2
}
